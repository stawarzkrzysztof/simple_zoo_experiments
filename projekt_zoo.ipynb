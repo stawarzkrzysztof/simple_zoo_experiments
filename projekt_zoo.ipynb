{
 "cells": [
  {
   "cell_type": "markdown",
   "metadata": {
    "collapsed": false
   },
   "source": [
    "# Import paczek początkowych"
   ]
  },
  {
   "cell_type": "code",
   "execution_count": 1,
   "metadata": {
    "ExecuteTime": {
     "end_time": "2023-06-26T19:24:14.580416Z",
     "start_time": "2023-06-26T19:24:14.578950Z"
    },
    "collapsed": true
   },
   "outputs": [],
   "source": [
    "import numpy as np\n",
    "import pandas as pd\n",
    "import matplotlib.pyplot as plt"
   ]
  },
  {
   "cell_type": "markdown",
   "metadata": {
    "collapsed": false
   },
   "source": [
    "# Import i wyświetlenie danych"
   ]
  },
  {
   "cell_type": "code",
   "execution_count": 2,
   "metadata": {
    "ExecuteTime": {
     "end_time": "2023-06-26T19:24:14.598220Z",
     "start_time": "2023-06-26T19:24:14.582712Z"
    },
    "collapsed": false
   },
   "outputs": [
    {
     "data": {
      "text/html": [
       "<div>\n",
       "<style scoped>\n",
       "    .dataframe tbody tr th:only-of-type {\n",
       "        vertical-align: middle;\n",
       "    }\n",
       "\n",
       "    .dataframe tbody tr th {\n",
       "        vertical-align: top;\n",
       "    }\n",
       "\n",
       "    .dataframe thead th {\n",
       "        text-align: right;\n",
       "    }\n",
       "</style>\n",
       "<table border=\"1\" class=\"dataframe\">\n",
       "  <thead>\n",
       "    <tr style=\"text-align: right;\">\n",
       "      <th></th>\n",
       "      <th>animal_name</th>\n",
       "      <th>hair</th>\n",
       "      <th>feathers</th>\n",
       "      <th>eggs</th>\n",
       "      <th>milk</th>\n",
       "      <th>airborne</th>\n",
       "      <th>aquatic</th>\n",
       "      <th>predator</th>\n",
       "      <th>toothed</th>\n",
       "      <th>backbone</th>\n",
       "      <th>breathes</th>\n",
       "      <th>venomous</th>\n",
       "      <th>fins</th>\n",
       "      <th>legs</th>\n",
       "      <th>tail</th>\n",
       "      <th>domestic</th>\n",
       "      <th>catsize</th>\n",
       "      <th>class_type</th>\n",
       "    </tr>\n",
       "  </thead>\n",
       "  <tbody>\n",
       "    <tr>\n",
       "      <th>0</th>\n",
       "      <td>aardvark</td>\n",
       "      <td>1</td>\n",
       "      <td>0</td>\n",
       "      <td>0</td>\n",
       "      <td>1</td>\n",
       "      <td>NaN</td>\n",
       "      <td>0</td>\n",
       "      <td>1</td>\n",
       "      <td>1</td>\n",
       "      <td>1.0</td>\n",
       "      <td>1</td>\n",
       "      <td>0</td>\n",
       "      <td>0.0</td>\n",
       "      <td>4.0</td>\n",
       "      <td>0</td>\n",
       "      <td>0</td>\n",
       "      <td>1</td>\n",
       "      <td>1</td>\n",
       "    </tr>\n",
       "    <tr>\n",
       "      <th>1</th>\n",
       "      <td>antelope</td>\n",
       "      <td>1</td>\n",
       "      <td>0</td>\n",
       "      <td>0</td>\n",
       "      <td>1</td>\n",
       "      <td>0.0</td>\n",
       "      <td>0</td>\n",
       "      <td>0</td>\n",
       "      <td>1</td>\n",
       "      <td>1.0</td>\n",
       "      <td>1</td>\n",
       "      <td>0</td>\n",
       "      <td>NaN</td>\n",
       "      <td>4.0</td>\n",
       "      <td>1</td>\n",
       "      <td>0</td>\n",
       "      <td>1</td>\n",
       "      <td>1</td>\n",
       "    </tr>\n",
       "    <tr>\n",
       "      <th>2</th>\n",
       "      <td>bass</td>\n",
       "      <td>0</td>\n",
       "      <td>0</td>\n",
       "      <td>1</td>\n",
       "      <td>0</td>\n",
       "      <td>0.0</td>\n",
       "      <td>1</td>\n",
       "      <td>1</td>\n",
       "      <td>1</td>\n",
       "      <td>1.0</td>\n",
       "      <td>0</td>\n",
       "      <td>0</td>\n",
       "      <td>1.0</td>\n",
       "      <td>0.0</td>\n",
       "      <td>1</td>\n",
       "      <td>0</td>\n",
       "      <td>0</td>\n",
       "      <td>4</td>\n",
       "    </tr>\n",
       "    <tr>\n",
       "      <th>3</th>\n",
       "      <td>bear</td>\n",
       "      <td>1</td>\n",
       "      <td>0</td>\n",
       "      <td>0</td>\n",
       "      <td>1</td>\n",
       "      <td>0.0</td>\n",
       "      <td>0</td>\n",
       "      <td>1</td>\n",
       "      <td>1</td>\n",
       "      <td>1.0</td>\n",
       "      <td>1</td>\n",
       "      <td>0</td>\n",
       "      <td>0.0</td>\n",
       "      <td>4.0</td>\n",
       "      <td>0</td>\n",
       "      <td>0</td>\n",
       "      <td>1</td>\n",
       "      <td>1</td>\n",
       "    </tr>\n",
       "    <tr>\n",
       "      <th>4</th>\n",
       "      <td>boar</td>\n",
       "      <td>1</td>\n",
       "      <td>0</td>\n",
       "      <td>0</td>\n",
       "      <td>1</td>\n",
       "      <td>0.0</td>\n",
       "      <td>NaN</td>\n",
       "      <td>1</td>\n",
       "      <td>1</td>\n",
       "      <td>1.0</td>\n",
       "      <td>1</td>\n",
       "      <td>0</td>\n",
       "      <td>0.0</td>\n",
       "      <td>4.0</td>\n",
       "      <td>1</td>\n",
       "      <td>0</td>\n",
       "      <td>1</td>\n",
       "      <td>1</td>\n",
       "    </tr>\n",
       "  </tbody>\n",
       "</table>\n",
       "</div>"
      ],
      "text/plain": [
       "  animal_name  hair  feathers  eggs milk  airborne aquatic  predator  toothed  \\\n",
       "0    aardvark     1         0     0    1       NaN       0         1        1   \n",
       "1    antelope     1         0     0    1       0.0       0         0        1   \n",
       "2        bass     0         0     1    0       0.0       1         1        1   \n",
       "3        bear     1         0     0    1       0.0       0         1        1   \n",
       "4        boar     1         0     0    1       0.0     NaN         1        1   \n",
       "\n",
       "   backbone  breathes  venomous  fins  legs  tail domestic  catsize  \\\n",
       "0       1.0         1         0   0.0   4.0     0        0        1   \n",
       "1       1.0         1         0   NaN   4.0     1        0        1   \n",
       "2       1.0         0         0   1.0   0.0     1        0        0   \n",
       "3       1.0         1         0   0.0   4.0     0        0        1   \n",
       "4       1.0         1         0   0.0   4.0     1        0        1   \n",
       "\n",
       "   class_type  \n",
       "0           1  \n",
       "1           1  \n",
       "2           4  \n",
       "3           1  \n",
       "4           1  "
      ]
     },
     "execution_count": 2,
     "metadata": {},
     "output_type": "execute_result"
    }
   ],
   "source": [
    "df = pd.read_csv(\"zoo.csv\", sep=\";\")\n",
    "df.head()"
   ]
  },
  {
   "cell_type": "markdown",
   "metadata": {
    "collapsed": false
   },
   "source": [
    "# Wstępna analiza i przyjrzenie się danym"
   ]
  },
  {
   "cell_type": "code",
   "execution_count": 3,
   "metadata": {
    "ExecuteTime": {
     "end_time": "2023-06-26T19:24:14.601079Z",
     "start_time": "2023-06-26T19:24:14.597840Z"
    },
    "collapsed": false
   },
   "outputs": [
    {
     "data": {
      "text/plain": [
       "(101, 18)"
      ]
     },
     "execution_count": 3,
     "metadata": {},
     "output_type": "execute_result"
    }
   ],
   "source": [
    "df.shape"
   ]
  },
  {
   "cell_type": "code",
   "execution_count": 4,
   "metadata": {
    "ExecuteTime": {
     "end_time": "2023-06-26T19:24:14.621207Z",
     "start_time": "2023-06-26T19:24:14.601874Z"
    },
    "collapsed": false
   },
   "outputs": [
    {
     "data": {
      "text/plain": [
       "Index(['animal_name', 'hair', 'feathers', 'eggs', 'milk', 'airborne',\n",
       "       'aquatic', 'predator', 'toothed', 'backbone', 'breathes', 'venomous',\n",
       "       'fins', 'legs', 'tail', 'domestic', 'catsize', 'class_type'],\n",
       "      dtype='object')"
      ]
     },
     "execution_count": 4,
     "metadata": {},
     "output_type": "execute_result"
    }
   ],
   "source": [
    "df.columns"
   ]
  },
  {
   "cell_type": "code",
   "execution_count": 5,
   "metadata": {
    "ExecuteTime": {
     "end_time": "2023-06-26T19:24:14.632453Z",
     "start_time": "2023-06-26T19:24:14.608130Z"
    },
    "collapsed": false
   },
   "outputs": [
    {
     "name": "stdout",
     "output_type": "stream",
     "text": [
      "<class 'pandas.core.frame.DataFrame'>\n",
      "RangeIndex: 101 entries, 0 to 100\n",
      "Data columns (total 18 columns):\n",
      " #   Column       Non-Null Count  Dtype  \n",
      "---  ------       --------------  -----  \n",
      " 0   animal_name  101 non-null    object \n",
      " 1   hair         101 non-null    int64  \n",
      " 2   feathers     101 non-null    int64  \n",
      " 3   eggs         101 non-null    int64  \n",
      " 4   milk         101 non-null    object \n",
      " 5   airborne     100 non-null    float64\n",
      " 6   aquatic      100 non-null    object \n",
      " 7   predator     101 non-null    int64  \n",
      " 8   toothed      101 non-null    int64  \n",
      " 9   backbone     81 non-null     float64\n",
      " 10  breathes     101 non-null    int64  \n",
      " 11  venomous     101 non-null    int64  \n",
      " 12  fins         100 non-null    float64\n",
      " 13  legs         80 non-null     float64\n",
      " 14  tail         101 non-null    int64  \n",
      " 15  domestic     101 non-null    object \n",
      " 16  catsize      101 non-null    int64  \n",
      " 17  class_type   101 non-null    int64  \n",
      "dtypes: float64(4), int64(10), object(4)\n",
      "memory usage: 14.3+ KB\n"
     ]
    }
   ],
   "source": [
    "df.info()"
   ]
  },
  {
   "cell_type": "code",
   "execution_count": 6,
   "metadata": {
    "ExecuteTime": {
     "end_time": "2023-06-26T19:24:14.632777Z",
     "start_time": "2023-06-26T19:24:14.614084Z"
    },
    "collapsed": false
   },
   "outputs": [
    {
     "data": {
      "text/plain": [
       "array(['aardvark', 'antelope', 'bass', 'bear', 'boar', 'buffalo', 'calf',\n",
       "       'carp', 'catfish', 'cavy', 'cheetah', 'chicken', 'chub', 'clam',\n",
       "       'crab', 'crayfish', 'crow', 'deer', 'dogfish', 'dolphin', 'dove',\n",
       "       'duck', 'elephant', 'flamingo', 'flea', 'frog', 'fruitbat',\n",
       "       'giraffe', 'girl', 'gnat', 'goat', 'gorilla', 'gull', 'haddock',\n",
       "       'hamster', 'hare', 'hawk', 'herring', 'honeybee', 'housefly',\n",
       "       'kiwi', 'ladybird', 'lark', 'leopard', 'lion', 'lobster', 'lynx',\n",
       "       'mink', 'mole', 'mongoose', 'moth', 'newt', 'octopus', 'opossum',\n",
       "       'oryx', 'ostrich', 'parakeet', 'penguin', 'pheasant', 'pike',\n",
       "       'piranha', 'pitviper', 'platypus', 'polecat', 'pony', 'porpoise',\n",
       "       'puma', 'pussycat', 'raccoon', 'reindeer', 'rhea', 'scorpion',\n",
       "       'seahorse', 'seal', 'sealion', 'seasnake', 'seawasp', 'skimmer',\n",
       "       'skua', 'slowworm', 'slug', 'sole', 'sparrow', 'squirrel',\n",
       "       'starfish', 'stingray', 'swan', 'termite', 'toad', 'tortoise',\n",
       "       'tuatara', 'tuna', 'vampire', 'vole', 'vulture', 'wallaby', 'wasp',\n",
       "       'wolf', 'worm', 'wren'], dtype=object)"
      ]
     },
     "execution_count": 6,
     "metadata": {},
     "output_type": "execute_result"
    }
   ],
   "source": [
    "df[\"animal_name\"].unique()"
   ]
  },
  {
   "cell_type": "code",
   "execution_count": 7,
   "metadata": {
    "ExecuteTime": {
     "end_time": "2023-06-26T19:24:14.632876Z",
     "start_time": "2023-06-26T19:24:14.618115Z"
    },
    "collapsed": false
   },
   "outputs": [
    {
     "data": {
      "text/plain": [
       "(100,)"
      ]
     },
     "execution_count": 7,
     "metadata": {},
     "output_type": "execute_result"
    }
   ],
   "source": [
    "df[\"animal_name\"].unique().shape"
   ]
  },
  {
   "cell_type": "code",
   "execution_count": 8,
   "metadata": {
    "ExecuteTime": {
     "end_time": "2023-06-26T19:24:14.660162Z",
     "start_time": "2023-06-26T19:24:14.625095Z"
    },
    "collapsed": false
   },
   "outputs": [
    {
     "data": {
      "text/plain": [
       "animal_name\n",
       "frog    2\n",
       "Name: animal_name, dtype: int64"
      ]
     },
     "execution_count": 8,
     "metadata": {},
     "output_type": "execute_result"
    }
   ],
   "source": [
    "counted_names = df.groupby([\"animal_name\"])[\"animal_name\"].count()\n",
    "counted_names[counted_names==2]"
   ]
  },
  {
   "cell_type": "code",
   "execution_count": 9,
   "metadata": {
    "ExecuteTime": {
     "end_time": "2023-06-26T19:24:14.660399Z",
     "start_time": "2023-06-26T19:24:14.639483Z"
    },
    "collapsed": false
   },
   "outputs": [
    {
     "data": {
      "text/html": [
       "<div>\n",
       "<style scoped>\n",
       "    .dataframe tbody tr th:only-of-type {\n",
       "        vertical-align: middle;\n",
       "    }\n",
       "\n",
       "    .dataframe tbody tr th {\n",
       "        vertical-align: top;\n",
       "    }\n",
       "\n",
       "    .dataframe thead th {\n",
       "        text-align: right;\n",
       "    }\n",
       "</style>\n",
       "<table border=\"1\" class=\"dataframe\">\n",
       "  <thead>\n",
       "    <tr style=\"text-align: right;\">\n",
       "      <th></th>\n",
       "      <th>animal_name</th>\n",
       "      <th>hair</th>\n",
       "      <th>feathers</th>\n",
       "      <th>eggs</th>\n",
       "      <th>milk</th>\n",
       "      <th>airborne</th>\n",
       "      <th>aquatic</th>\n",
       "      <th>predator</th>\n",
       "      <th>toothed</th>\n",
       "      <th>backbone</th>\n",
       "      <th>breathes</th>\n",
       "      <th>venomous</th>\n",
       "      <th>fins</th>\n",
       "      <th>legs</th>\n",
       "      <th>tail</th>\n",
       "      <th>domestic</th>\n",
       "      <th>catsize</th>\n",
       "      <th>class_type</th>\n",
       "    </tr>\n",
       "  </thead>\n",
       "  <tbody>\n",
       "    <tr>\n",
       "      <th>25</th>\n",
       "      <td>frog</td>\n",
       "      <td>0</td>\n",
       "      <td>0</td>\n",
       "      <td>1</td>\n",
       "      <td>0</td>\n",
       "      <td>0.0</td>\n",
       "      <td>1</td>\n",
       "      <td>1</td>\n",
       "      <td>1</td>\n",
       "      <td>NaN</td>\n",
       "      <td>1</td>\n",
       "      <td>0</td>\n",
       "      <td>0.0</td>\n",
       "      <td>4.0</td>\n",
       "      <td>0</td>\n",
       "      <td>unknown</td>\n",
       "      <td>0</td>\n",
       "      <td>5</td>\n",
       "    </tr>\n",
       "    <tr>\n",
       "      <th>26</th>\n",
       "      <td>frog</td>\n",
       "      <td>0</td>\n",
       "      <td>0</td>\n",
       "      <td>1</td>\n",
       "      <td>0</td>\n",
       "      <td>0.0</td>\n",
       "      <td>1</td>\n",
       "      <td>1</td>\n",
       "      <td>1</td>\n",
       "      <td>1.0</td>\n",
       "      <td>1</td>\n",
       "      <td>1</td>\n",
       "      <td>0.0</td>\n",
       "      <td>4.0</td>\n",
       "      <td>0</td>\n",
       "      <td>unknown</td>\n",
       "      <td>0</td>\n",
       "      <td>5</td>\n",
       "    </tr>\n",
       "  </tbody>\n",
       "</table>\n",
       "</div>"
      ],
      "text/plain": [
       "   animal_name  hair  feathers  eggs milk  airborne aquatic  predator  \\\n",
       "25        frog     0         0     1    0       0.0       1         1   \n",
       "26        frog     0         0     1    0       0.0       1         1   \n",
       "\n",
       "    toothed  backbone  breathes  venomous  fins  legs  tail domestic  catsize  \\\n",
       "25        1       NaN         1         0   0.0   4.0     0  unknown        0   \n",
       "26        1       1.0         1         1   0.0   4.0     0  unknown        0   \n",
       "\n",
       "    class_type  \n",
       "25           5  \n",
       "26           5  "
      ]
     },
     "execution_count": 9,
     "metadata": {},
     "output_type": "execute_result"
    }
   ],
   "source": [
    "df[df[\"animal_name\"] == \"frog\"]"
   ]
  },
  {
   "cell_type": "code",
   "execution_count": 10,
   "metadata": {
    "ExecuteTime": {
     "end_time": "2023-06-26T19:24:14.721734Z",
     "start_time": "2023-06-26T19:24:14.643170Z"
    },
    "collapsed": false
   },
   "outputs": [
    {
     "name": "stdout",
     "output_type": "stream",
     "text": [
      "hair [1 0]\n",
      "feathers [0 1]\n",
      "eggs [0 1]\n",
      "milk ['1' '0' 'unknown']\n",
      "airborne [nan  0.  1.]\n",
      "aquatic ['0' '1' nan 'unknown']\n",
      "predator [1 0]\n",
      "toothed [1 0]\n",
      "backbone [ 1. nan  0.]\n",
      "breathes [1 0]\n",
      "venomous [0 1]\n",
      "fins [ 0. nan  1.]\n",
      "legs [ 4.  0.  2.  6.  8. nan  5.]\n",
      "tail [0 1]\n",
      "domestic ['0' '1' 'unknown']\n",
      "catsize [1 0]\n"
     ]
    }
   ],
   "source": [
    "for col in df.columns[1:-1]:\n",
    "    print(col, df[col].unique())"
   ]
  },
  {
   "cell_type": "markdown",
   "metadata": {
    "collapsed": false
   },
   "source": [
    "Wszystkie boole, legs to ilość nóg."
   ]
  },
  {
   "cell_type": "code",
   "execution_count": 11,
   "metadata": {
    "ExecuteTime": {
     "end_time": "2023-06-26T19:24:14.721982Z",
     "start_time": "2023-06-26T19:24:14.657834Z"
    },
    "collapsed": false
   },
   "outputs": [
    {
     "data": {
      "text/html": [
       "<div>\n",
       "<style scoped>\n",
       "    .dataframe tbody tr th:only-of-type {\n",
       "        vertical-align: middle;\n",
       "    }\n",
       "\n",
       "    .dataframe tbody tr th {\n",
       "        vertical-align: top;\n",
       "    }\n",
       "\n",
       "    .dataframe thead th {\n",
       "        text-align: right;\n",
       "    }\n",
       "</style>\n",
       "<table border=\"1\" class=\"dataframe\">\n",
       "  <thead>\n",
       "    <tr style=\"text-align: right;\">\n",
       "      <th></th>\n",
       "      <th>animal_name</th>\n",
       "      <th>hair</th>\n",
       "      <th>feathers</th>\n",
       "      <th>eggs</th>\n",
       "      <th>milk</th>\n",
       "      <th>airborne</th>\n",
       "      <th>aquatic</th>\n",
       "      <th>predator</th>\n",
       "      <th>toothed</th>\n",
       "      <th>backbone</th>\n",
       "      <th>breathes</th>\n",
       "      <th>venomous</th>\n",
       "      <th>fins</th>\n",
       "      <th>legs</th>\n",
       "      <th>tail</th>\n",
       "      <th>domestic</th>\n",
       "      <th>catsize</th>\n",
       "      <th>class_type</th>\n",
       "    </tr>\n",
       "  </thead>\n",
       "  <tbody>\n",
       "    <tr>\n",
       "      <th>85</th>\n",
       "      <td>starfish</td>\n",
       "      <td>0</td>\n",
       "      <td>0</td>\n",
       "      <td>1</td>\n",
       "      <td>0</td>\n",
       "      <td>0.0</td>\n",
       "      <td>1</td>\n",
       "      <td>1</td>\n",
       "      <td>0</td>\n",
       "      <td>0.0</td>\n",
       "      <td>0</td>\n",
       "      <td>0</td>\n",
       "      <td>0.0</td>\n",
       "      <td>5.0</td>\n",
       "      <td>0</td>\n",
       "      <td>0</td>\n",
       "      <td>0</td>\n",
       "      <td>7</td>\n",
       "    </tr>\n",
       "  </tbody>\n",
       "</table>\n",
       "</div>"
      ],
      "text/plain": [
       "   animal_name  hair  feathers  eggs milk  airborne aquatic  predator  \\\n",
       "85    starfish     0         0     1    0       0.0       1         1   \n",
       "\n",
       "    toothed  backbone  breathes  venomous  fins  legs  tail domestic  catsize  \\\n",
       "85        0       0.0         0         0   0.0   5.0     0        0        0   \n",
       "\n",
       "    class_type  \n",
       "85           7  "
      ]
     },
     "execution_count": 11,
     "metadata": {},
     "output_type": "execute_result"
    }
   ],
   "source": [
    "df[df[\"legs\"]==5]"
   ]
  },
  {
   "cell_type": "markdown",
   "metadata": {
    "collapsed": false
   },
   "source": [
    "To ciekawe"
   ]
  },
  {
   "cell_type": "markdown",
   "metadata": {
    "collapsed": false
   },
   "source": [
    "# Preprocessing"
   ]
  },
  {
   "cell_type": "code",
   "execution_count": 12,
   "metadata": {
    "ExecuteTime": {
     "end_time": "2023-06-26T19:24:14.723138Z",
     "start_time": "2023-06-26T19:24:14.667799Z"
    },
    "collapsed": false
   },
   "outputs": [
    {
     "data": {
      "text/html": [
       "<div>\n",
       "<style scoped>\n",
       "    .dataframe tbody tr th:only-of-type {\n",
       "        vertical-align: middle;\n",
       "    }\n",
       "\n",
       "    .dataframe tbody tr th {\n",
       "        vertical-align: top;\n",
       "    }\n",
       "\n",
       "    .dataframe thead th {\n",
       "        text-align: right;\n",
       "    }\n",
       "</style>\n",
       "<table border=\"1\" class=\"dataframe\">\n",
       "  <thead>\n",
       "    <tr style=\"text-align: right;\">\n",
       "      <th></th>\n",
       "      <th>animal_name</th>\n",
       "      <th>hair</th>\n",
       "      <th>feathers</th>\n",
       "      <th>eggs</th>\n",
       "      <th>milk</th>\n",
       "      <th>airborne</th>\n",
       "      <th>aquatic</th>\n",
       "      <th>predator</th>\n",
       "      <th>toothed</th>\n",
       "      <th>backbone</th>\n",
       "      <th>breathes</th>\n",
       "      <th>venomous</th>\n",
       "      <th>fins</th>\n",
       "      <th>legs</th>\n",
       "      <th>tail</th>\n",
       "      <th>domestic</th>\n",
       "      <th>catsize</th>\n",
       "      <th>class_type</th>\n",
       "    </tr>\n",
       "  </thead>\n",
       "  <tbody>\n",
       "    <tr>\n",
       "      <th>26</th>\n",
       "      <td>frog</td>\n",
       "      <td>0</td>\n",
       "      <td>0</td>\n",
       "      <td>1</td>\n",
       "      <td>0</td>\n",
       "      <td>0.0</td>\n",
       "      <td>1</td>\n",
       "      <td>1</td>\n",
       "      <td>1</td>\n",
       "      <td>1.0</td>\n",
       "      <td>1</td>\n",
       "      <td>1</td>\n",
       "      <td>0.0</td>\n",
       "      <td>4.0</td>\n",
       "      <td>0</td>\n",
       "      <td>unknown</td>\n",
       "      <td>0</td>\n",
       "      <td>5</td>\n",
       "    </tr>\n",
       "  </tbody>\n",
       "</table>\n",
       "</div>"
      ],
      "text/plain": [
       "   animal_name  hair  feathers  eggs milk  airborne aquatic  predator  \\\n",
       "26        frog     0         0     1    0       0.0       1         1   \n",
       "\n",
       "    toothed  backbone  breathes  venomous  fins  legs  tail domestic  catsize  \\\n",
       "26        1       1.0         1         1   0.0   4.0     0  unknown        0   \n",
       "\n",
       "    class_type  \n",
       "26           5  "
      ]
     },
     "execution_count": 12,
     "metadata": {},
     "output_type": "execute_result"
    }
   ],
   "source": [
    "df.drop(labels=25, axis=0, inplace=True)\n",
    "df[df[\"animal_name\"] == \"frog\"]"
   ]
  },
  {
   "cell_type": "code",
   "execution_count": 13,
   "metadata": {
    "ExecuteTime": {
     "end_time": "2023-06-26T19:24:14.723284Z",
     "start_time": "2023-06-26T19:24:14.671767Z"
    },
    "collapsed": false
   },
   "outputs": [
    {
     "data": {
      "text/plain": [
       "(100, 18)"
      ]
     },
     "execution_count": 13,
     "metadata": {},
     "output_type": "execute_result"
    }
   ],
   "source": [
    "df.shape"
   ]
  },
  {
   "cell_type": "code",
   "execution_count": 14,
   "metadata": {
    "ExecuteTime": {
     "end_time": "2023-06-26T19:24:14.723498Z",
     "start_time": "2023-06-26T19:24:14.681579Z"
    },
    "collapsed": false
   },
   "outputs": [],
   "source": [
    "df.index = range(0, 100)"
   ]
  },
  {
   "cell_type": "code",
   "execution_count": 15,
   "metadata": {
    "ExecuteTime": {
     "end_time": "2023-06-26T19:24:14.732972Z",
     "start_time": "2023-06-26T19:24:14.686657Z"
    },
    "collapsed": false
   },
   "outputs": [
    {
     "data": {
      "text/plain": [
       "milk\n",
       "0          55\n",
       "1          39\n",
       "unknown     6\n",
       "Name: milk, dtype: int64"
      ]
     },
     "execution_count": 15,
     "metadata": {},
     "output_type": "execute_result"
    }
   ],
   "source": [
    "df.groupby([\"milk\"])[\"milk\"].count()"
   ]
  },
  {
   "cell_type": "code",
   "execution_count": 16,
   "metadata": {
    "ExecuteTime": {
     "end_time": "2023-06-26T19:24:14.733197Z",
     "start_time": "2023-06-26T19:24:14.691234Z"
    },
    "collapsed": false
   },
   "outputs": [
    {
     "data": {
      "text/plain": [
       "aquatic\n",
       "0          60\n",
       "1          33\n",
       "unknown     6\n",
       "Name: aquatic, dtype: int64"
      ]
     },
     "execution_count": 16,
     "metadata": {},
     "output_type": "execute_result"
    }
   ],
   "source": [
    "df.groupby([\"aquatic\"])[\"aquatic\"].count()"
   ]
  },
  {
   "cell_type": "code",
   "execution_count": 17,
   "metadata": {
    "ExecuteTime": {
     "end_time": "2023-06-26T19:24:14.733287Z",
     "start_time": "2023-06-26T19:24:14.694910Z"
    },
    "collapsed": false
   },
   "outputs": [
    {
     "data": {
      "text/plain": [
       "domestic\n",
       "0          77\n",
       "1          11\n",
       "unknown    12\n",
       "Name: domestic, dtype: int64"
      ]
     },
     "execution_count": 17,
     "metadata": {},
     "output_type": "execute_result"
    }
   ],
   "source": [
    "df.groupby([\"domestic\"])[\"domestic\"].count()"
   ]
  },
  {
   "cell_type": "code",
   "execution_count": 18,
   "metadata": {
    "ExecuteTime": {
     "end_time": "2023-06-26T19:24:14.733814Z",
     "start_time": "2023-06-26T19:24:14.708926Z"
    },
    "collapsed": false
   },
   "outputs": [],
   "source": [
    "df.replace(\"unknown\", np.nan, inplace=True)"
   ]
  },
  {
   "cell_type": "code",
   "execution_count": 19,
   "metadata": {
    "ExecuteTime": {
     "end_time": "2023-06-26T19:24:14.733962Z",
     "start_time": "2023-06-26T19:24:14.709098Z"
    },
    "collapsed": false
   },
   "outputs": [
    {
     "data": {
      "text/plain": [
       "animal_name     0\n",
       "hair            0\n",
       "feathers        0\n",
       "eggs            0\n",
       "milk            6\n",
       "airborne        1\n",
       "aquatic         7\n",
       "predator        0\n",
       "toothed         0\n",
       "backbone       19\n",
       "breathes        0\n",
       "venomous        0\n",
       "fins            1\n",
       "legs           21\n",
       "tail            0\n",
       "domestic       12\n",
       "catsize         0\n",
       "class_type      0\n",
       "dtype: int64"
      ]
     },
     "execution_count": 19,
     "metadata": {},
     "output_type": "execute_result"
    }
   ],
   "source": [
    "df.isna().sum()"
   ]
  },
  {
   "cell_type": "markdown",
   "metadata": {
    "collapsed": false
   },
   "source": [
    "Zajrzymy do danych, zbiór nie jest duży, może uda mi sie uzupełnić NaN'y zgodnie z wiedzą i internetem hihi"
   ]
  },
  {
   "cell_type": "code",
   "execution_count": 20,
   "metadata": {
    "ExecuteTime": {
     "end_time": "2023-06-26T19:24:14.734070Z",
     "start_time": "2023-06-26T19:24:14.715276Z"
    },
    "collapsed": false
   },
   "outputs": [
    {
     "data": {
      "text/html": [
       "<div>\n",
       "<style scoped>\n",
       "    .dataframe tbody tr th:only-of-type {\n",
       "        vertical-align: middle;\n",
       "    }\n",
       "\n",
       "    .dataframe tbody tr th {\n",
       "        vertical-align: top;\n",
       "    }\n",
       "\n",
       "    .dataframe thead th {\n",
       "        text-align: right;\n",
       "    }\n",
       "</style>\n",
       "<table border=\"1\" class=\"dataframe\">\n",
       "  <thead>\n",
       "    <tr style=\"text-align: right;\">\n",
       "      <th></th>\n",
       "      <th>animal_name</th>\n",
       "      <th>hair</th>\n",
       "      <th>feathers</th>\n",
       "      <th>eggs</th>\n",
       "      <th>milk</th>\n",
       "      <th>airborne</th>\n",
       "      <th>aquatic</th>\n",
       "      <th>predator</th>\n",
       "      <th>toothed</th>\n",
       "      <th>backbone</th>\n",
       "      <th>breathes</th>\n",
       "      <th>venomous</th>\n",
       "      <th>fins</th>\n",
       "      <th>legs</th>\n",
       "      <th>tail</th>\n",
       "      <th>domestic</th>\n",
       "      <th>catsize</th>\n",
       "      <th>class_type</th>\n",
       "    </tr>\n",
       "  </thead>\n",
       "  <tbody>\n",
       "    <tr>\n",
       "      <th>71</th>\n",
       "      <td>scorpion</td>\n",
       "      <td>0</td>\n",
       "      <td>0</td>\n",
       "      <td>0</td>\n",
       "      <td>NaN</td>\n",
       "      <td>0.0</td>\n",
       "      <td>0</td>\n",
       "      <td>1</td>\n",
       "      <td>0</td>\n",
       "      <td>0.0</td>\n",
       "      <td>1</td>\n",
       "      <td>1</td>\n",
       "      <td>0.0</td>\n",
       "      <td>NaN</td>\n",
       "      <td>1</td>\n",
       "      <td>0</td>\n",
       "      <td>0</td>\n",
       "      <td>7</td>\n",
       "    </tr>\n",
       "    <tr>\n",
       "      <th>72</th>\n",
       "      <td>seahorse</td>\n",
       "      <td>0</td>\n",
       "      <td>0</td>\n",
       "      <td>1</td>\n",
       "      <td>NaN</td>\n",
       "      <td>0.0</td>\n",
       "      <td>1</td>\n",
       "      <td>0</td>\n",
       "      <td>1</td>\n",
       "      <td>1.0</td>\n",
       "      <td>0</td>\n",
       "      <td>0</td>\n",
       "      <td>1.0</td>\n",
       "      <td>NaN</td>\n",
       "      <td>1</td>\n",
       "      <td>0</td>\n",
       "      <td>0</td>\n",
       "      <td>4</td>\n",
       "    </tr>\n",
       "    <tr>\n",
       "      <th>73</th>\n",
       "      <td>seal</td>\n",
       "      <td>1</td>\n",
       "      <td>0</td>\n",
       "      <td>0</td>\n",
       "      <td>NaN</td>\n",
       "      <td>0.0</td>\n",
       "      <td>1</td>\n",
       "      <td>1</td>\n",
       "      <td>1</td>\n",
       "      <td>1.0</td>\n",
       "      <td>1</td>\n",
       "      <td>0</td>\n",
       "      <td>1.0</td>\n",
       "      <td>NaN</td>\n",
       "      <td>0</td>\n",
       "      <td>0</td>\n",
       "      <td>1</td>\n",
       "      <td>1</td>\n",
       "    </tr>\n",
       "    <tr>\n",
       "      <th>74</th>\n",
       "      <td>sealion</td>\n",
       "      <td>1</td>\n",
       "      <td>0</td>\n",
       "      <td>0</td>\n",
       "      <td>NaN</td>\n",
       "      <td>0.0</td>\n",
       "      <td>1</td>\n",
       "      <td>1</td>\n",
       "      <td>1</td>\n",
       "      <td>1.0</td>\n",
       "      <td>1</td>\n",
       "      <td>0</td>\n",
       "      <td>1.0</td>\n",
       "      <td>NaN</td>\n",
       "      <td>1</td>\n",
       "      <td>0</td>\n",
       "      <td>1</td>\n",
       "      <td>1</td>\n",
       "    </tr>\n",
       "    <tr>\n",
       "      <th>75</th>\n",
       "      <td>seasnake</td>\n",
       "      <td>0</td>\n",
       "      <td>0</td>\n",
       "      <td>0</td>\n",
       "      <td>NaN</td>\n",
       "      <td>0.0</td>\n",
       "      <td>1</td>\n",
       "      <td>1</td>\n",
       "      <td>1</td>\n",
       "      <td>1.0</td>\n",
       "      <td>0</td>\n",
       "      <td>1</td>\n",
       "      <td>0.0</td>\n",
       "      <td>NaN</td>\n",
       "      <td>1</td>\n",
       "      <td>0</td>\n",
       "      <td>0</td>\n",
       "      <td>3</td>\n",
       "    </tr>\n",
       "    <tr>\n",
       "      <th>76</th>\n",
       "      <td>seawasp</td>\n",
       "      <td>0</td>\n",
       "      <td>0</td>\n",
       "      <td>1</td>\n",
       "      <td>NaN</td>\n",
       "      <td>0.0</td>\n",
       "      <td>1</td>\n",
       "      <td>1</td>\n",
       "      <td>0</td>\n",
       "      <td>0.0</td>\n",
       "      <td>0</td>\n",
       "      <td>1</td>\n",
       "      <td>0.0</td>\n",
       "      <td>NaN</td>\n",
       "      <td>0</td>\n",
       "      <td>0</td>\n",
       "      <td>0</td>\n",
       "      <td>7</td>\n",
       "    </tr>\n",
       "  </tbody>\n",
       "</table>\n",
       "</div>"
      ],
      "text/plain": [
       "   animal_name  hair  feathers  eggs milk  airborne aquatic  predator  \\\n",
       "71    scorpion     0         0     0  NaN       0.0       0         1   \n",
       "72    seahorse     0         0     1  NaN       0.0       1         0   \n",
       "73        seal     1         0     0  NaN       0.0       1         1   \n",
       "74     sealion     1         0     0  NaN       0.0       1         1   \n",
       "75    seasnake     0         0     0  NaN       0.0       1         1   \n",
       "76     seawasp     0         0     1  NaN       0.0       1         1   \n",
       "\n",
       "    toothed  backbone  breathes  venomous  fins  legs  tail domestic  catsize  \\\n",
       "71        0       0.0         1         1   0.0   NaN     1        0        0   \n",
       "72        1       1.0         0         0   1.0   NaN     1        0        0   \n",
       "73        1       1.0         1         0   1.0   NaN     0        0        1   \n",
       "74        1       1.0         1         0   1.0   NaN     1        0        1   \n",
       "75        1       1.0         0         1   0.0   NaN     1        0        0   \n",
       "76        0       0.0         0         1   0.0   NaN     0        0        0   \n",
       "\n",
       "    class_type  \n",
       "71           7  \n",
       "72           4  \n",
       "73           1  \n",
       "74           1  \n",
       "75           3  \n",
       "76           7  "
      ]
     },
     "execution_count": 20,
     "metadata": {},
     "output_type": "execute_result"
    }
   ],
   "source": [
    "df[df[\"milk\"].isna()]"
   ]
  },
  {
   "cell_type": "code",
   "execution_count": 21,
   "metadata": {
    "ExecuteTime": {
     "end_time": "2023-06-26T19:24:14.734155Z",
     "start_time": "2023-06-26T19:24:14.721317Z"
    },
    "collapsed": false
   },
   "outputs": [],
   "source": [
    "df.loc[71, \"milk\"] = 0\n",
    "df.loc[72, \"milk\"] = 0\n",
    "df.loc[73, \"milk\"] = 1\n",
    "df.loc[74, \"milk\"] = 1\n",
    "df.loc[75, \"milk\"] = 0\n",
    "df.loc[76, \"milk\"] = 0"
   ]
  },
  {
   "cell_type": "code",
   "execution_count": 22,
   "metadata": {
    "ExecuteTime": {
     "end_time": "2023-06-26T19:24:14.798156Z",
     "start_time": "2023-06-26T19:24:14.729871Z"
    },
    "collapsed": false
   },
   "outputs": [
    {
     "data": {
      "text/html": [
       "<div>\n",
       "<style scoped>\n",
       "    .dataframe tbody tr th:only-of-type {\n",
       "        vertical-align: middle;\n",
       "    }\n",
       "\n",
       "    .dataframe tbody tr th {\n",
       "        vertical-align: top;\n",
       "    }\n",
       "\n",
       "    .dataframe thead th {\n",
       "        text-align: right;\n",
       "    }\n",
       "</style>\n",
       "<table border=\"1\" class=\"dataframe\">\n",
       "  <thead>\n",
       "    <tr style=\"text-align: right;\">\n",
       "      <th></th>\n",
       "      <th>animal_name</th>\n",
       "      <th>hair</th>\n",
       "      <th>feathers</th>\n",
       "      <th>eggs</th>\n",
       "      <th>milk</th>\n",
       "      <th>airborne</th>\n",
       "      <th>aquatic</th>\n",
       "      <th>predator</th>\n",
       "      <th>toothed</th>\n",
       "      <th>backbone</th>\n",
       "      <th>breathes</th>\n",
       "      <th>venomous</th>\n",
       "      <th>fins</th>\n",
       "      <th>legs</th>\n",
       "      <th>tail</th>\n",
       "      <th>domestic</th>\n",
       "      <th>catsize</th>\n",
       "      <th>class_type</th>\n",
       "    </tr>\n",
       "  </thead>\n",
       "  <tbody>\n",
       "    <tr>\n",
       "      <th>0</th>\n",
       "      <td>aardvark</td>\n",
       "      <td>1</td>\n",
       "      <td>0</td>\n",
       "      <td>0</td>\n",
       "      <td>1</td>\n",
       "      <td>NaN</td>\n",
       "      <td>0</td>\n",
       "      <td>1</td>\n",
       "      <td>1</td>\n",
       "      <td>1.0</td>\n",
       "      <td>1</td>\n",
       "      <td>0</td>\n",
       "      <td>0.0</td>\n",
       "      <td>4.0</td>\n",
       "      <td>0</td>\n",
       "      <td>0</td>\n",
       "      <td>1</td>\n",
       "      <td>1</td>\n",
       "    </tr>\n",
       "  </tbody>\n",
       "</table>\n",
       "</div>"
      ],
      "text/plain": [
       "  animal_name  hair  feathers  eggs milk  airborne aquatic  predator  toothed  \\\n",
       "0    aardvark     1         0     0    1       NaN       0         1        1   \n",
       "\n",
       "   backbone  breathes  venomous  fins  legs  tail domestic  catsize  \\\n",
       "0       1.0         1         0   0.0   4.0     0        0        1   \n",
       "\n",
       "   class_type  \n",
       "0           1  "
      ]
     },
     "execution_count": 22,
     "metadata": {},
     "output_type": "execute_result"
    }
   ],
   "source": [
    "df[df[\"airborne\"].isna()]"
   ]
  },
  {
   "cell_type": "code",
   "execution_count": 23,
   "metadata": {
    "ExecuteTime": {
     "end_time": "2023-06-26T19:24:14.798515Z",
     "start_time": "2023-06-26T19:24:14.733871Z"
    },
    "collapsed": false
   },
   "outputs": [],
   "source": [
    "df.loc[0, \"airborne\"] = 0.0"
   ]
  },
  {
   "cell_type": "code",
   "execution_count": 24,
   "metadata": {
    "ExecuteTime": {
     "end_time": "2023-06-26T19:24:14.798699Z",
     "start_time": "2023-06-26T19:24:14.744593Z"
    },
    "collapsed": false
   },
   "outputs": [
    {
     "data": {
      "text/html": [
       "<div>\n",
       "<style scoped>\n",
       "    .dataframe tbody tr th:only-of-type {\n",
       "        vertical-align: middle;\n",
       "    }\n",
       "\n",
       "    .dataframe tbody tr th {\n",
       "        vertical-align: top;\n",
       "    }\n",
       "\n",
       "    .dataframe thead th {\n",
       "        text-align: right;\n",
       "    }\n",
       "</style>\n",
       "<table border=\"1\" class=\"dataframe\">\n",
       "  <thead>\n",
       "    <tr style=\"text-align: right;\">\n",
       "      <th></th>\n",
       "      <th>animal_name</th>\n",
       "      <th>hair</th>\n",
       "      <th>feathers</th>\n",
       "      <th>eggs</th>\n",
       "      <th>milk</th>\n",
       "      <th>airborne</th>\n",
       "      <th>aquatic</th>\n",
       "      <th>predator</th>\n",
       "      <th>toothed</th>\n",
       "      <th>backbone</th>\n",
       "      <th>breathes</th>\n",
       "      <th>venomous</th>\n",
       "      <th>fins</th>\n",
       "      <th>legs</th>\n",
       "      <th>tail</th>\n",
       "      <th>domestic</th>\n",
       "      <th>catsize</th>\n",
       "      <th>class_type</th>\n",
       "    </tr>\n",
       "  </thead>\n",
       "  <tbody>\n",
       "    <tr>\n",
       "      <th>4</th>\n",
       "      <td>boar</td>\n",
       "      <td>1</td>\n",
       "      <td>0</td>\n",
       "      <td>0</td>\n",
       "      <td>1</td>\n",
       "      <td>0.0</td>\n",
       "      <td>NaN</td>\n",
       "      <td>1</td>\n",
       "      <td>1</td>\n",
       "      <td>1.0</td>\n",
       "      <td>1</td>\n",
       "      <td>0</td>\n",
       "      <td>0.0</td>\n",
       "      <td>4.0</td>\n",
       "      <td>1</td>\n",
       "      <td>0</td>\n",
       "      <td>1</td>\n",
       "      <td>1</td>\n",
       "    </tr>\n",
       "    <tr>\n",
       "      <th>28</th>\n",
       "      <td>girl</td>\n",
       "      <td>1</td>\n",
       "      <td>0</td>\n",
       "      <td>0</td>\n",
       "      <td>1</td>\n",
       "      <td>0.0</td>\n",
       "      <td>NaN</td>\n",
       "      <td>1</td>\n",
       "      <td>1</td>\n",
       "      <td>1.0</td>\n",
       "      <td>1</td>\n",
       "      <td>0</td>\n",
       "      <td>0.0</td>\n",
       "      <td>2.0</td>\n",
       "      <td>0</td>\n",
       "      <td>NaN</td>\n",
       "      <td>1</td>\n",
       "      <td>1</td>\n",
       "    </tr>\n",
       "    <tr>\n",
       "      <th>29</th>\n",
       "      <td>gnat</td>\n",
       "      <td>0</td>\n",
       "      <td>0</td>\n",
       "      <td>1</td>\n",
       "      <td>0</td>\n",
       "      <td>1.0</td>\n",
       "      <td>NaN</td>\n",
       "      <td>0</td>\n",
       "      <td>0</td>\n",
       "      <td>0.0</td>\n",
       "      <td>1</td>\n",
       "      <td>0</td>\n",
       "      <td>0.0</td>\n",
       "      <td>6.0</td>\n",
       "      <td>0</td>\n",
       "      <td>NaN</td>\n",
       "      <td>0</td>\n",
       "      <td>6</td>\n",
       "    </tr>\n",
       "    <tr>\n",
       "      <th>30</th>\n",
       "      <td>goat</td>\n",
       "      <td>1</td>\n",
       "      <td>0</td>\n",
       "      <td>0</td>\n",
       "      <td>1</td>\n",
       "      <td>0.0</td>\n",
       "      <td>NaN</td>\n",
       "      <td>0</td>\n",
       "      <td>1</td>\n",
       "      <td>1.0</td>\n",
       "      <td>1</td>\n",
       "      <td>0</td>\n",
       "      <td>0.0</td>\n",
       "      <td>4.0</td>\n",
       "      <td>1</td>\n",
       "      <td>1</td>\n",
       "      <td>1</td>\n",
       "      <td>1</td>\n",
       "    </tr>\n",
       "    <tr>\n",
       "      <th>31</th>\n",
       "      <td>gorilla</td>\n",
       "      <td>1</td>\n",
       "      <td>0</td>\n",
       "      <td>0</td>\n",
       "      <td>1</td>\n",
       "      <td>0.0</td>\n",
       "      <td>NaN</td>\n",
       "      <td>0</td>\n",
       "      <td>1</td>\n",
       "      <td>1.0</td>\n",
       "      <td>1</td>\n",
       "      <td>0</td>\n",
       "      <td>0.0</td>\n",
       "      <td>2.0</td>\n",
       "      <td>0</td>\n",
       "      <td>0</td>\n",
       "      <td>1</td>\n",
       "      <td>1</td>\n",
       "    </tr>\n",
       "    <tr>\n",
       "      <th>32</th>\n",
       "      <td>gull</td>\n",
       "      <td>0</td>\n",
       "      <td>1</td>\n",
       "      <td>1</td>\n",
       "      <td>0</td>\n",
       "      <td>1.0</td>\n",
       "      <td>NaN</td>\n",
       "      <td>1</td>\n",
       "      <td>0</td>\n",
       "      <td>1.0</td>\n",
       "      <td>1</td>\n",
       "      <td>0</td>\n",
       "      <td>0.0</td>\n",
       "      <td>2.0</td>\n",
       "      <td>1</td>\n",
       "      <td>0</td>\n",
       "      <td>0</td>\n",
       "      <td>2</td>\n",
       "    </tr>\n",
       "    <tr>\n",
       "      <th>33</th>\n",
       "      <td>haddock</td>\n",
       "      <td>0</td>\n",
       "      <td>0</td>\n",
       "      <td>1</td>\n",
       "      <td>0</td>\n",
       "      <td>0.0</td>\n",
       "      <td>NaN</td>\n",
       "      <td>0</td>\n",
       "      <td>1</td>\n",
       "      <td>1.0</td>\n",
       "      <td>0</td>\n",
       "      <td>0</td>\n",
       "      <td>1.0</td>\n",
       "      <td>0.0</td>\n",
       "      <td>1</td>\n",
       "      <td>0</td>\n",
       "      <td>0</td>\n",
       "      <td>4</td>\n",
       "    </tr>\n",
       "  </tbody>\n",
       "</table>\n",
       "</div>"
      ],
      "text/plain": [
       "   animal_name  hair  feathers  eggs milk  airborne aquatic  predator  \\\n",
       "4         boar     1         0     0    1       0.0     NaN         1   \n",
       "28        girl     1         0     0    1       0.0     NaN         1   \n",
       "29        gnat     0         0     1    0       1.0     NaN         0   \n",
       "30        goat     1         0     0    1       0.0     NaN         0   \n",
       "31     gorilla     1         0     0    1       0.0     NaN         0   \n",
       "32        gull     0         1     1    0       1.0     NaN         1   \n",
       "33     haddock     0         0     1    0       0.0     NaN         0   \n",
       "\n",
       "    toothed  backbone  breathes  venomous  fins  legs  tail domestic  catsize  \\\n",
       "4         1       1.0         1         0   0.0   4.0     1        0        1   \n",
       "28        1       1.0         1         0   0.0   2.0     0      NaN        1   \n",
       "29        0       0.0         1         0   0.0   6.0     0      NaN        0   \n",
       "30        1       1.0         1         0   0.0   4.0     1        1        1   \n",
       "31        1       1.0         1         0   0.0   2.0     0        0        1   \n",
       "32        0       1.0         1         0   0.0   2.0     1        0        0   \n",
       "33        1       1.0         0         0   1.0   0.0     1        0        0   \n",
       "\n",
       "    class_type  \n",
       "4            1  \n",
       "28           1  \n",
       "29           6  \n",
       "30           1  \n",
       "31           1  \n",
       "32           2  \n",
       "33           4  "
      ]
     },
     "execution_count": 24,
     "metadata": {},
     "output_type": "execute_result"
    }
   ],
   "source": [
    "\n",
    "df[df[\"aquatic\"].isna()]"
   ]
  },
  {
   "cell_type": "code",
   "execution_count": 25,
   "metadata": {
    "ExecuteTime": {
     "end_time": "2023-06-26T19:24:14.798761Z",
     "start_time": "2023-06-26T19:24:14.749791Z"
    },
    "collapsed": false
   },
   "outputs": [],
   "source": [
    "df.loc[4, \"aquatic\"] = 0\n",
    "df.loc[28, \"aquatic\"] = 0\n",
    "df.loc[29, \"aquatic\"] = 0\n",
    "df.loc[30, \"aquatic\"] = 0\n",
    "df.loc[31, \"aquatic\"] = 0\n",
    "df.loc[32, \"aquatic\"] = 0\n",
    "df.loc[33, \"aquatic\"] = 1"
   ]
  },
  {
   "cell_type": "code",
   "execution_count": 26,
   "metadata": {
    "ExecuteTime": {
     "end_time": "2023-06-26T19:24:14.841331Z",
     "start_time": "2023-06-26T19:24:14.770097Z"
    },
    "collapsed": false
   },
   "outputs": [
    {
     "data": {
      "text/html": [
       "<div>\n",
       "<style scoped>\n",
       "    .dataframe tbody tr th:only-of-type {\n",
       "        vertical-align: middle;\n",
       "    }\n",
       "\n",
       "    .dataframe tbody tr th {\n",
       "        vertical-align: top;\n",
       "    }\n",
       "\n",
       "    .dataframe thead th {\n",
       "        text-align: right;\n",
       "    }\n",
       "</style>\n",
       "<table border=\"1\" class=\"dataframe\">\n",
       "  <thead>\n",
       "    <tr style=\"text-align: right;\">\n",
       "      <th></th>\n",
       "      <th>animal_name</th>\n",
       "      <th>hair</th>\n",
       "      <th>feathers</th>\n",
       "      <th>eggs</th>\n",
       "      <th>milk</th>\n",
       "      <th>airborne</th>\n",
       "      <th>aquatic</th>\n",
       "      <th>predator</th>\n",
       "      <th>toothed</th>\n",
       "      <th>backbone</th>\n",
       "      <th>breathes</th>\n",
       "      <th>venomous</th>\n",
       "      <th>fins</th>\n",
       "      <th>legs</th>\n",
       "      <th>tail</th>\n",
       "      <th>domestic</th>\n",
       "      <th>catsize</th>\n",
       "      <th>class_type</th>\n",
       "    </tr>\n",
       "  </thead>\n",
       "  <tbody>\n",
       "    <tr>\n",
       "      <th>6</th>\n",
       "      <td>calf</td>\n",
       "      <td>1</td>\n",
       "      <td>0</td>\n",
       "      <td>0</td>\n",
       "      <td>1</td>\n",
       "      <td>0.0</td>\n",
       "      <td>0</td>\n",
       "      <td>0</td>\n",
       "      <td>1</td>\n",
       "      <td>NaN</td>\n",
       "      <td>1</td>\n",
       "      <td>0</td>\n",
       "      <td>0.0</td>\n",
       "      <td>4.0</td>\n",
       "      <td>1</td>\n",
       "      <td>1</td>\n",
       "      <td>1</td>\n",
       "      <td>1</td>\n",
       "    </tr>\n",
       "    <tr>\n",
       "      <th>7</th>\n",
       "      <td>carp</td>\n",
       "      <td>0</td>\n",
       "      <td>0</td>\n",
       "      <td>1</td>\n",
       "      <td>0</td>\n",
       "      <td>0.0</td>\n",
       "      <td>1</td>\n",
       "      <td>0</td>\n",
       "      <td>1</td>\n",
       "      <td>NaN</td>\n",
       "      <td>0</td>\n",
       "      <td>0</td>\n",
       "      <td>1.0</td>\n",
       "      <td>0.0</td>\n",
       "      <td>1</td>\n",
       "      <td>1</td>\n",
       "      <td>0</td>\n",
       "      <td>4</td>\n",
       "    </tr>\n",
       "    <tr>\n",
       "      <th>8</th>\n",
       "      <td>catfish</td>\n",
       "      <td>0</td>\n",
       "      <td>0</td>\n",
       "      <td>1</td>\n",
       "      <td>0</td>\n",
       "      <td>0.0</td>\n",
       "      <td>1</td>\n",
       "      <td>1</td>\n",
       "      <td>1</td>\n",
       "      <td>NaN</td>\n",
       "      <td>0</td>\n",
       "      <td>0</td>\n",
       "      <td>1.0</td>\n",
       "      <td>0.0</td>\n",
       "      <td>1</td>\n",
       "      <td>0</td>\n",
       "      <td>0</td>\n",
       "      <td>4</td>\n",
       "    </tr>\n",
       "    <tr>\n",
       "      <th>9</th>\n",
       "      <td>cavy</td>\n",
       "      <td>1</td>\n",
       "      <td>0</td>\n",
       "      <td>0</td>\n",
       "      <td>1</td>\n",
       "      <td>0.0</td>\n",
       "      <td>0</td>\n",
       "      <td>0</td>\n",
       "      <td>1</td>\n",
       "      <td>NaN</td>\n",
       "      <td>1</td>\n",
       "      <td>0</td>\n",
       "      <td>0.0</td>\n",
       "      <td>4.0</td>\n",
       "      <td>0</td>\n",
       "      <td>1</td>\n",
       "      <td>0</td>\n",
       "      <td>1</td>\n",
       "    </tr>\n",
       "    <tr>\n",
       "      <th>10</th>\n",
       "      <td>cheetah</td>\n",
       "      <td>1</td>\n",
       "      <td>0</td>\n",
       "      <td>0</td>\n",
       "      <td>1</td>\n",
       "      <td>0.0</td>\n",
       "      <td>0</td>\n",
       "      <td>1</td>\n",
       "      <td>1</td>\n",
       "      <td>NaN</td>\n",
       "      <td>1</td>\n",
       "      <td>0</td>\n",
       "      <td>0.0</td>\n",
       "      <td>4.0</td>\n",
       "      <td>1</td>\n",
       "      <td>0</td>\n",
       "      <td>1</td>\n",
       "      <td>1</td>\n",
       "    </tr>\n",
       "    <tr>\n",
       "      <th>11</th>\n",
       "      <td>chicken</td>\n",
       "      <td>0</td>\n",
       "      <td>1</td>\n",
       "      <td>1</td>\n",
       "      <td>0</td>\n",
       "      <td>1.0</td>\n",
       "      <td>0</td>\n",
       "      <td>0</td>\n",
       "      <td>0</td>\n",
       "      <td>NaN</td>\n",
       "      <td>1</td>\n",
       "      <td>0</td>\n",
       "      <td>0.0</td>\n",
       "      <td>2.0</td>\n",
       "      <td>1</td>\n",
       "      <td>1</td>\n",
       "      <td>0</td>\n",
       "      <td>2</td>\n",
       "    </tr>\n",
       "    <tr>\n",
       "      <th>12</th>\n",
       "      <td>chub</td>\n",
       "      <td>0</td>\n",
       "      <td>0</td>\n",
       "      <td>1</td>\n",
       "      <td>0</td>\n",
       "      <td>0.0</td>\n",
       "      <td>1</td>\n",
       "      <td>1</td>\n",
       "      <td>1</td>\n",
       "      <td>NaN</td>\n",
       "      <td>0</td>\n",
       "      <td>0</td>\n",
       "      <td>1.0</td>\n",
       "      <td>0.0</td>\n",
       "      <td>1</td>\n",
       "      <td>0</td>\n",
       "      <td>0</td>\n",
       "      <td>4</td>\n",
       "    </tr>\n",
       "    <tr>\n",
       "      <th>13</th>\n",
       "      <td>clam</td>\n",
       "      <td>0</td>\n",
       "      <td>0</td>\n",
       "      <td>1</td>\n",
       "      <td>0</td>\n",
       "      <td>0.0</td>\n",
       "      <td>0</td>\n",
       "      <td>1</td>\n",
       "      <td>0</td>\n",
       "      <td>NaN</td>\n",
       "      <td>0</td>\n",
       "      <td>0</td>\n",
       "      <td>0.0</td>\n",
       "      <td>0.0</td>\n",
       "      <td>0</td>\n",
       "      <td>0</td>\n",
       "      <td>0</td>\n",
       "      <td>7</td>\n",
       "    </tr>\n",
       "    <tr>\n",
       "      <th>14</th>\n",
       "      <td>crab</td>\n",
       "      <td>0</td>\n",
       "      <td>0</td>\n",
       "      <td>1</td>\n",
       "      <td>0</td>\n",
       "      <td>0.0</td>\n",
       "      <td>1</td>\n",
       "      <td>1</td>\n",
       "      <td>0</td>\n",
       "      <td>NaN</td>\n",
       "      <td>0</td>\n",
       "      <td>0</td>\n",
       "      <td>0.0</td>\n",
       "      <td>4.0</td>\n",
       "      <td>0</td>\n",
       "      <td>0</td>\n",
       "      <td>0</td>\n",
       "      <td>7</td>\n",
       "    </tr>\n",
       "    <tr>\n",
       "      <th>15</th>\n",
       "      <td>crayfish</td>\n",
       "      <td>0</td>\n",
       "      <td>0</td>\n",
       "      <td>1</td>\n",
       "      <td>0</td>\n",
       "      <td>0.0</td>\n",
       "      <td>1</td>\n",
       "      <td>1</td>\n",
       "      <td>0</td>\n",
       "      <td>NaN</td>\n",
       "      <td>0</td>\n",
       "      <td>0</td>\n",
       "      <td>0.0</td>\n",
       "      <td>6.0</td>\n",
       "      <td>0</td>\n",
       "      <td>0</td>\n",
       "      <td>0</td>\n",
       "      <td>7</td>\n",
       "    </tr>\n",
       "    <tr>\n",
       "      <th>16</th>\n",
       "      <td>crow</td>\n",
       "      <td>0</td>\n",
       "      <td>1</td>\n",
       "      <td>1</td>\n",
       "      <td>0</td>\n",
       "      <td>1.0</td>\n",
       "      <td>0</td>\n",
       "      <td>1</td>\n",
       "      <td>0</td>\n",
       "      <td>NaN</td>\n",
       "      <td>1</td>\n",
       "      <td>0</td>\n",
       "      <td>0.0</td>\n",
       "      <td>2.0</td>\n",
       "      <td>1</td>\n",
       "      <td>0</td>\n",
       "      <td>0</td>\n",
       "      <td>2</td>\n",
       "    </tr>\n",
       "    <tr>\n",
       "      <th>17</th>\n",
       "      <td>deer</td>\n",
       "      <td>1</td>\n",
       "      <td>0</td>\n",
       "      <td>0</td>\n",
       "      <td>1</td>\n",
       "      <td>0.0</td>\n",
       "      <td>0</td>\n",
       "      <td>0</td>\n",
       "      <td>1</td>\n",
       "      <td>NaN</td>\n",
       "      <td>1</td>\n",
       "      <td>0</td>\n",
       "      <td>0.0</td>\n",
       "      <td>4.0</td>\n",
       "      <td>1</td>\n",
       "      <td>0</td>\n",
       "      <td>1</td>\n",
       "      <td>1</td>\n",
       "    </tr>\n",
       "    <tr>\n",
       "      <th>18</th>\n",
       "      <td>dogfish</td>\n",
       "      <td>0</td>\n",
       "      <td>0</td>\n",
       "      <td>1</td>\n",
       "      <td>0</td>\n",
       "      <td>0.0</td>\n",
       "      <td>1</td>\n",
       "      <td>1</td>\n",
       "      <td>1</td>\n",
       "      <td>NaN</td>\n",
       "      <td>0</td>\n",
       "      <td>0</td>\n",
       "      <td>1.0</td>\n",
       "      <td>0.0</td>\n",
       "      <td>1</td>\n",
       "      <td>NaN</td>\n",
       "      <td>1</td>\n",
       "      <td>4</td>\n",
       "    </tr>\n",
       "    <tr>\n",
       "      <th>19</th>\n",
       "      <td>dolphin</td>\n",
       "      <td>0</td>\n",
       "      <td>0</td>\n",
       "      <td>0</td>\n",
       "      <td>1</td>\n",
       "      <td>0.0</td>\n",
       "      <td>1</td>\n",
       "      <td>1</td>\n",
       "      <td>1</td>\n",
       "      <td>NaN</td>\n",
       "      <td>1</td>\n",
       "      <td>0</td>\n",
       "      <td>1.0</td>\n",
       "      <td>0.0</td>\n",
       "      <td>1</td>\n",
       "      <td>NaN</td>\n",
       "      <td>1</td>\n",
       "      <td>1</td>\n",
       "    </tr>\n",
       "    <tr>\n",
       "      <th>20</th>\n",
       "      <td>dove</td>\n",
       "      <td>0</td>\n",
       "      <td>1</td>\n",
       "      <td>1</td>\n",
       "      <td>0</td>\n",
       "      <td>1.0</td>\n",
       "      <td>0</td>\n",
       "      <td>0</td>\n",
       "      <td>0</td>\n",
       "      <td>NaN</td>\n",
       "      <td>1</td>\n",
       "      <td>0</td>\n",
       "      <td>0.0</td>\n",
       "      <td>2.0</td>\n",
       "      <td>1</td>\n",
       "      <td>NaN</td>\n",
       "      <td>0</td>\n",
       "      <td>2</td>\n",
       "    </tr>\n",
       "    <tr>\n",
       "      <th>21</th>\n",
       "      <td>duck</td>\n",
       "      <td>0</td>\n",
       "      <td>1</td>\n",
       "      <td>1</td>\n",
       "      <td>0</td>\n",
       "      <td>1.0</td>\n",
       "      <td>1</td>\n",
       "      <td>0</td>\n",
       "      <td>0</td>\n",
       "      <td>NaN</td>\n",
       "      <td>1</td>\n",
       "      <td>0</td>\n",
       "      <td>0.0</td>\n",
       "      <td>2.0</td>\n",
       "      <td>1</td>\n",
       "      <td>NaN</td>\n",
       "      <td>0</td>\n",
       "      <td>2</td>\n",
       "    </tr>\n",
       "    <tr>\n",
       "      <th>22</th>\n",
       "      <td>elephant</td>\n",
       "      <td>1</td>\n",
       "      <td>0</td>\n",
       "      <td>0</td>\n",
       "      <td>1</td>\n",
       "      <td>0.0</td>\n",
       "      <td>0</td>\n",
       "      <td>0</td>\n",
       "      <td>1</td>\n",
       "      <td>NaN</td>\n",
       "      <td>1</td>\n",
       "      <td>0</td>\n",
       "      <td>0.0</td>\n",
       "      <td>4.0</td>\n",
       "      <td>1</td>\n",
       "      <td>NaN</td>\n",
       "      <td>1</td>\n",
       "      <td>1</td>\n",
       "    </tr>\n",
       "    <tr>\n",
       "      <th>23</th>\n",
       "      <td>flamingo</td>\n",
       "      <td>0</td>\n",
       "      <td>1</td>\n",
       "      <td>1</td>\n",
       "      <td>0</td>\n",
       "      <td>1.0</td>\n",
       "      <td>0</td>\n",
       "      <td>0</td>\n",
       "      <td>0</td>\n",
       "      <td>NaN</td>\n",
       "      <td>1</td>\n",
       "      <td>0</td>\n",
       "      <td>0.0</td>\n",
       "      <td>2.0</td>\n",
       "      <td>1</td>\n",
       "      <td>NaN</td>\n",
       "      <td>1</td>\n",
       "      <td>2</td>\n",
       "    </tr>\n",
       "    <tr>\n",
       "      <th>24</th>\n",
       "      <td>flea</td>\n",
       "      <td>0</td>\n",
       "      <td>0</td>\n",
       "      <td>1</td>\n",
       "      <td>0</td>\n",
       "      <td>0.0</td>\n",
       "      <td>0</td>\n",
       "      <td>0</td>\n",
       "      <td>0</td>\n",
       "      <td>NaN</td>\n",
       "      <td>1</td>\n",
       "      <td>0</td>\n",
       "      <td>0.0</td>\n",
       "      <td>6.0</td>\n",
       "      <td>0</td>\n",
       "      <td>NaN</td>\n",
       "      <td>0</td>\n",
       "      <td>6</td>\n",
       "    </tr>\n",
       "  </tbody>\n",
       "</table>\n",
       "</div>"
      ],
      "text/plain": [
       "   animal_name  hair  feathers  eggs milk  airborne aquatic  predator  \\\n",
       "6         calf     1         0     0    1       0.0       0         0   \n",
       "7         carp     0         0     1    0       0.0       1         0   \n",
       "8      catfish     0         0     1    0       0.0       1         1   \n",
       "9         cavy     1         0     0    1       0.0       0         0   \n",
       "10     cheetah     1         0     0    1       0.0       0         1   \n",
       "11     chicken     0         1     1    0       1.0       0         0   \n",
       "12        chub     0         0     1    0       0.0       1         1   \n",
       "13        clam     0         0     1    0       0.0       0         1   \n",
       "14        crab     0         0     1    0       0.0       1         1   \n",
       "15    crayfish     0         0     1    0       0.0       1         1   \n",
       "16        crow     0         1     1    0       1.0       0         1   \n",
       "17        deer     1         0     0    1       0.0       0         0   \n",
       "18     dogfish     0         0     1    0       0.0       1         1   \n",
       "19     dolphin     0         0     0    1       0.0       1         1   \n",
       "20        dove     0         1     1    0       1.0       0         0   \n",
       "21        duck     0         1     1    0       1.0       1         0   \n",
       "22    elephant     1         0     0    1       0.0       0         0   \n",
       "23    flamingo     0         1     1    0       1.0       0         0   \n",
       "24        flea     0         0     1    0       0.0       0         0   \n",
       "\n",
       "    toothed  backbone  breathes  venomous  fins  legs  tail domestic  catsize  \\\n",
       "6         1       NaN         1         0   0.0   4.0     1        1        1   \n",
       "7         1       NaN         0         0   1.0   0.0     1        1        0   \n",
       "8         1       NaN         0         0   1.0   0.0     1        0        0   \n",
       "9         1       NaN         1         0   0.0   4.0     0        1        0   \n",
       "10        1       NaN         1         0   0.0   4.0     1        0        1   \n",
       "11        0       NaN         1         0   0.0   2.0     1        1        0   \n",
       "12        1       NaN         0         0   1.0   0.0     1        0        0   \n",
       "13        0       NaN         0         0   0.0   0.0     0        0        0   \n",
       "14        0       NaN         0         0   0.0   4.0     0        0        0   \n",
       "15        0       NaN         0         0   0.0   6.0     0        0        0   \n",
       "16        0       NaN         1         0   0.0   2.0     1        0        0   \n",
       "17        1       NaN         1         0   0.0   4.0     1        0        1   \n",
       "18        1       NaN         0         0   1.0   0.0     1      NaN        1   \n",
       "19        1       NaN         1         0   1.0   0.0     1      NaN        1   \n",
       "20        0       NaN         1         0   0.0   2.0     1      NaN        0   \n",
       "21        0       NaN         1         0   0.0   2.0     1      NaN        0   \n",
       "22        1       NaN         1         0   0.0   4.0     1      NaN        1   \n",
       "23        0       NaN         1         0   0.0   2.0     1      NaN        1   \n",
       "24        0       NaN         1         0   0.0   6.0     0      NaN        0   \n",
       "\n",
       "    class_type  \n",
       "6            1  \n",
       "7            4  \n",
       "8            4  \n",
       "9            1  \n",
       "10           1  \n",
       "11           2  \n",
       "12           4  \n",
       "13           7  \n",
       "14           7  \n",
       "15           7  \n",
       "16           2  \n",
       "17           1  \n",
       "18           4  \n",
       "19           1  \n",
       "20           2  \n",
       "21           2  \n",
       "22           1  \n",
       "23           2  \n",
       "24           6  "
      ]
     },
     "execution_count": 26,
     "metadata": {},
     "output_type": "execute_result"
    }
   ],
   "source": [
    "df[df[\"backbone\"].isna()]"
   ]
  },
  {
   "cell_type": "code",
   "execution_count": 27,
   "metadata": {
    "ExecuteTime": {
     "end_time": "2023-06-26T19:24:14.856514Z",
     "start_time": "2023-06-26T19:24:14.776242Z"
    },
    "collapsed": false
   },
   "outputs": [],
   "source": [
    "df.loc[6, \"backbone\"] = 1\n",
    "df.loc[7, \"backbone\"] = 1\n",
    "df.loc[8, \"backbone\"] = 1\n",
    "df.loc[9, \"backbone\"] = 1\n",
    "df.loc[10, \"backbone\"] = 1\n",
    "df.loc[11, \"backbone\"] = 1\n",
    "df.loc[12, \"backbone\"] = 1\n",
    "df.loc[13, \"backbone\"] = 0\n",
    "df.loc[14, \"backbone\"] = 0\n",
    "df.loc[15, \"backbone\"] = 0\n",
    "df.loc[16, \"backbone\"] = 1\n",
    "df.loc[17, \"backbone\"] = 1\n",
    "df.loc[18, \"backbone\"] = 1\n",
    "df.loc[19, \"backbone\"] = 1\n",
    "df.loc[20, \"backbone\"] = 1\n",
    "df.loc[21, \"backbone\"] = 1\n",
    "df.loc[22, \"backbone\"] = 1\n",
    "df.loc[23, \"backbone\"] = 1\n",
    "df.loc[24, \"backbone\"] = 0"
   ]
  },
  {
   "cell_type": "code",
   "execution_count": 28,
   "metadata": {
    "ExecuteTime": {
     "end_time": "2023-06-26T19:24:14.888093Z",
     "start_time": "2023-06-26T19:24:14.786891Z"
    },
    "collapsed": false
   },
   "outputs": [
    {
     "data": {
      "text/html": [
       "<div>\n",
       "<style scoped>\n",
       "    .dataframe tbody tr th:only-of-type {\n",
       "        vertical-align: middle;\n",
       "    }\n",
       "\n",
       "    .dataframe tbody tr th {\n",
       "        vertical-align: top;\n",
       "    }\n",
       "\n",
       "    .dataframe thead th {\n",
       "        text-align: right;\n",
       "    }\n",
       "</style>\n",
       "<table border=\"1\" class=\"dataframe\">\n",
       "  <thead>\n",
       "    <tr style=\"text-align: right;\">\n",
       "      <th></th>\n",
       "      <th>animal_name</th>\n",
       "      <th>hair</th>\n",
       "      <th>feathers</th>\n",
       "      <th>eggs</th>\n",
       "      <th>milk</th>\n",
       "      <th>airborne</th>\n",
       "      <th>aquatic</th>\n",
       "      <th>predator</th>\n",
       "      <th>toothed</th>\n",
       "      <th>backbone</th>\n",
       "      <th>breathes</th>\n",
       "      <th>venomous</th>\n",
       "      <th>fins</th>\n",
       "      <th>legs</th>\n",
       "      <th>tail</th>\n",
       "      <th>domestic</th>\n",
       "      <th>catsize</th>\n",
       "      <th>class_type</th>\n",
       "    </tr>\n",
       "  </thead>\n",
       "  <tbody>\n",
       "    <tr>\n",
       "      <th>1</th>\n",
       "      <td>antelope</td>\n",
       "      <td>1</td>\n",
       "      <td>0</td>\n",
       "      <td>0</td>\n",
       "      <td>1</td>\n",
       "      <td>0.0</td>\n",
       "      <td>0</td>\n",
       "      <td>0</td>\n",
       "      <td>1</td>\n",
       "      <td>1.0</td>\n",
       "      <td>1</td>\n",
       "      <td>0</td>\n",
       "      <td>NaN</td>\n",
       "      <td>4.0</td>\n",
       "      <td>1</td>\n",
       "      <td>0</td>\n",
       "      <td>1</td>\n",
       "      <td>1</td>\n",
       "    </tr>\n",
       "  </tbody>\n",
       "</table>\n",
       "</div>"
      ],
      "text/plain": [
       "  animal_name  hair  feathers  eggs milk  airborne aquatic  predator  toothed  \\\n",
       "1    antelope     1         0     0    1       0.0       0         0        1   \n",
       "\n",
       "   backbone  breathes  venomous  fins  legs  tail domestic  catsize  \\\n",
       "1       1.0         1         0   NaN   4.0     1        0        1   \n",
       "\n",
       "   class_type  \n",
       "1           1  "
      ]
     },
     "execution_count": 28,
     "metadata": {},
     "output_type": "execute_result"
    }
   ],
   "source": [
    "df[df[\"fins\"].isna()]"
   ]
  },
  {
   "cell_type": "code",
   "execution_count": 29,
   "metadata": {
    "ExecuteTime": {
     "end_time": "2023-06-26T19:24:14.888331Z",
     "start_time": "2023-06-26T19:24:14.791191Z"
    },
    "collapsed": false
   },
   "outputs": [],
   "source": [
    "df.loc[1, \"fins\"] = 0"
   ]
  },
  {
   "cell_type": "code",
   "execution_count": 30,
   "metadata": {
    "ExecuteTime": {
     "end_time": "2023-06-26T19:24:14.910334Z",
     "start_time": "2023-06-26T19:24:14.805601Z"
    },
    "collapsed": false
   },
   "outputs": [
    {
     "data": {
      "text/html": [
       "<div>\n",
       "<style scoped>\n",
       "    .dataframe tbody tr th:only-of-type {\n",
       "        vertical-align: middle;\n",
       "    }\n",
       "\n",
       "    .dataframe tbody tr th {\n",
       "        vertical-align: top;\n",
       "    }\n",
       "\n",
       "    .dataframe thead th {\n",
       "        text-align: right;\n",
       "    }\n",
       "</style>\n",
       "<table border=\"1\" class=\"dataframe\">\n",
       "  <thead>\n",
       "    <tr style=\"text-align: right;\">\n",
       "      <th></th>\n",
       "      <th>animal_name</th>\n",
       "      <th>hair</th>\n",
       "      <th>feathers</th>\n",
       "      <th>eggs</th>\n",
       "      <th>milk</th>\n",
       "      <th>airborne</th>\n",
       "      <th>aquatic</th>\n",
       "      <th>predator</th>\n",
       "      <th>toothed</th>\n",
       "      <th>backbone</th>\n",
       "      <th>breathes</th>\n",
       "      <th>venomous</th>\n",
       "      <th>fins</th>\n",
       "      <th>legs</th>\n",
       "      <th>tail</th>\n",
       "      <th>domestic</th>\n",
       "      <th>catsize</th>\n",
       "      <th>class_type</th>\n",
       "    </tr>\n",
       "  </thead>\n",
       "  <tbody>\n",
       "    <tr>\n",
       "      <th>59</th>\n",
       "      <td>pike</td>\n",
       "      <td>0</td>\n",
       "      <td>0</td>\n",
       "      <td>1</td>\n",
       "      <td>0</td>\n",
       "      <td>0.0</td>\n",
       "      <td>1</td>\n",
       "      <td>1</td>\n",
       "      <td>1</td>\n",
       "      <td>1.0</td>\n",
       "      <td>0</td>\n",
       "      <td>0</td>\n",
       "      <td>1.0</td>\n",
       "      <td>NaN</td>\n",
       "      <td>1</td>\n",
       "      <td>0</td>\n",
       "      <td>1</td>\n",
       "      <td>4</td>\n",
       "    </tr>\n",
       "    <tr>\n",
       "      <th>60</th>\n",
       "      <td>piranha</td>\n",
       "      <td>0</td>\n",
       "      <td>0</td>\n",
       "      <td>1</td>\n",
       "      <td>0</td>\n",
       "      <td>0.0</td>\n",
       "      <td>1</td>\n",
       "      <td>1</td>\n",
       "      <td>1</td>\n",
       "      <td>1.0</td>\n",
       "      <td>0</td>\n",
       "      <td>0</td>\n",
       "      <td>1.0</td>\n",
       "      <td>NaN</td>\n",
       "      <td>1</td>\n",
       "      <td>0</td>\n",
       "      <td>0</td>\n",
       "      <td>4</td>\n",
       "    </tr>\n",
       "    <tr>\n",
       "      <th>61</th>\n",
       "      <td>pitviper</td>\n",
       "      <td>0</td>\n",
       "      <td>0</td>\n",
       "      <td>1</td>\n",
       "      <td>0</td>\n",
       "      <td>0.0</td>\n",
       "      <td>0</td>\n",
       "      <td>1</td>\n",
       "      <td>1</td>\n",
       "      <td>1.0</td>\n",
       "      <td>1</td>\n",
       "      <td>1</td>\n",
       "      <td>0.0</td>\n",
       "      <td>NaN</td>\n",
       "      <td>1</td>\n",
       "      <td>0</td>\n",
       "      <td>0</td>\n",
       "      <td>3</td>\n",
       "    </tr>\n",
       "    <tr>\n",
       "      <th>62</th>\n",
       "      <td>platypus</td>\n",
       "      <td>1</td>\n",
       "      <td>0</td>\n",
       "      <td>1</td>\n",
       "      <td>1</td>\n",
       "      <td>0.0</td>\n",
       "      <td>1</td>\n",
       "      <td>1</td>\n",
       "      <td>0</td>\n",
       "      <td>1.0</td>\n",
       "      <td>1</td>\n",
       "      <td>0</td>\n",
       "      <td>0.0</td>\n",
       "      <td>NaN</td>\n",
       "      <td>1</td>\n",
       "      <td>0</td>\n",
       "      <td>1</td>\n",
       "      <td>1</td>\n",
       "    </tr>\n",
       "    <tr>\n",
       "      <th>63</th>\n",
       "      <td>polecat</td>\n",
       "      <td>1</td>\n",
       "      <td>0</td>\n",
       "      <td>0</td>\n",
       "      <td>1</td>\n",
       "      <td>0.0</td>\n",
       "      <td>0</td>\n",
       "      <td>1</td>\n",
       "      <td>1</td>\n",
       "      <td>1.0</td>\n",
       "      <td>1</td>\n",
       "      <td>0</td>\n",
       "      <td>0.0</td>\n",
       "      <td>NaN</td>\n",
       "      <td>1</td>\n",
       "      <td>0</td>\n",
       "      <td>1</td>\n",
       "      <td>1</td>\n",
       "    </tr>\n",
       "    <tr>\n",
       "      <th>64</th>\n",
       "      <td>pony</td>\n",
       "      <td>1</td>\n",
       "      <td>0</td>\n",
       "      <td>0</td>\n",
       "      <td>1</td>\n",
       "      <td>0.0</td>\n",
       "      <td>0</td>\n",
       "      <td>0</td>\n",
       "      <td>1</td>\n",
       "      <td>1.0</td>\n",
       "      <td>1</td>\n",
       "      <td>0</td>\n",
       "      <td>0.0</td>\n",
       "      <td>NaN</td>\n",
       "      <td>1</td>\n",
       "      <td>1</td>\n",
       "      <td>1</td>\n",
       "      <td>1</td>\n",
       "    </tr>\n",
       "    <tr>\n",
       "      <th>65</th>\n",
       "      <td>porpoise</td>\n",
       "      <td>0</td>\n",
       "      <td>0</td>\n",
       "      <td>0</td>\n",
       "      <td>1</td>\n",
       "      <td>0.0</td>\n",
       "      <td>1</td>\n",
       "      <td>1</td>\n",
       "      <td>1</td>\n",
       "      <td>1.0</td>\n",
       "      <td>1</td>\n",
       "      <td>0</td>\n",
       "      <td>1.0</td>\n",
       "      <td>NaN</td>\n",
       "      <td>1</td>\n",
       "      <td>0</td>\n",
       "      <td>1</td>\n",
       "      <td>1</td>\n",
       "    </tr>\n",
       "    <tr>\n",
       "      <th>66</th>\n",
       "      <td>puma</td>\n",
       "      <td>1</td>\n",
       "      <td>0</td>\n",
       "      <td>0</td>\n",
       "      <td>1</td>\n",
       "      <td>0.0</td>\n",
       "      <td>0</td>\n",
       "      <td>1</td>\n",
       "      <td>1</td>\n",
       "      <td>1.0</td>\n",
       "      <td>1</td>\n",
       "      <td>0</td>\n",
       "      <td>0.0</td>\n",
       "      <td>NaN</td>\n",
       "      <td>1</td>\n",
       "      <td>0</td>\n",
       "      <td>1</td>\n",
       "      <td>1</td>\n",
       "    </tr>\n",
       "    <tr>\n",
       "      <th>67</th>\n",
       "      <td>pussycat</td>\n",
       "      <td>1</td>\n",
       "      <td>0</td>\n",
       "      <td>0</td>\n",
       "      <td>1</td>\n",
       "      <td>0.0</td>\n",
       "      <td>0</td>\n",
       "      <td>1</td>\n",
       "      <td>1</td>\n",
       "      <td>1.0</td>\n",
       "      <td>1</td>\n",
       "      <td>0</td>\n",
       "      <td>0.0</td>\n",
       "      <td>NaN</td>\n",
       "      <td>1</td>\n",
       "      <td>1</td>\n",
       "      <td>1</td>\n",
       "      <td>1</td>\n",
       "    </tr>\n",
       "    <tr>\n",
       "      <th>68</th>\n",
       "      <td>raccoon</td>\n",
       "      <td>1</td>\n",
       "      <td>0</td>\n",
       "      <td>0</td>\n",
       "      <td>1</td>\n",
       "      <td>0.0</td>\n",
       "      <td>0</td>\n",
       "      <td>1</td>\n",
       "      <td>1</td>\n",
       "      <td>1.0</td>\n",
       "      <td>1</td>\n",
       "      <td>0</td>\n",
       "      <td>0.0</td>\n",
       "      <td>NaN</td>\n",
       "      <td>1</td>\n",
       "      <td>0</td>\n",
       "      <td>1</td>\n",
       "      <td>1</td>\n",
       "    </tr>\n",
       "    <tr>\n",
       "      <th>69</th>\n",
       "      <td>reindeer</td>\n",
       "      <td>1</td>\n",
       "      <td>0</td>\n",
       "      <td>0</td>\n",
       "      <td>1</td>\n",
       "      <td>0.0</td>\n",
       "      <td>0</td>\n",
       "      <td>0</td>\n",
       "      <td>1</td>\n",
       "      <td>1.0</td>\n",
       "      <td>1</td>\n",
       "      <td>0</td>\n",
       "      <td>0.0</td>\n",
       "      <td>NaN</td>\n",
       "      <td>1</td>\n",
       "      <td>1</td>\n",
       "      <td>1</td>\n",
       "      <td>1</td>\n",
       "    </tr>\n",
       "    <tr>\n",
       "      <th>70</th>\n",
       "      <td>rhea</td>\n",
       "      <td>0</td>\n",
       "      <td>1</td>\n",
       "      <td>1</td>\n",
       "      <td>0</td>\n",
       "      <td>0.0</td>\n",
       "      <td>0</td>\n",
       "      <td>1</td>\n",
       "      <td>0</td>\n",
       "      <td>1.0</td>\n",
       "      <td>1</td>\n",
       "      <td>0</td>\n",
       "      <td>0.0</td>\n",
       "      <td>NaN</td>\n",
       "      <td>1</td>\n",
       "      <td>0</td>\n",
       "      <td>1</td>\n",
       "      <td>2</td>\n",
       "    </tr>\n",
       "    <tr>\n",
       "      <th>71</th>\n",
       "      <td>scorpion</td>\n",
       "      <td>0</td>\n",
       "      <td>0</td>\n",
       "      <td>0</td>\n",
       "      <td>0</td>\n",
       "      <td>0.0</td>\n",
       "      <td>0</td>\n",
       "      <td>1</td>\n",
       "      <td>0</td>\n",
       "      <td>0.0</td>\n",
       "      <td>1</td>\n",
       "      <td>1</td>\n",
       "      <td>0.0</td>\n",
       "      <td>NaN</td>\n",
       "      <td>1</td>\n",
       "      <td>0</td>\n",
       "      <td>0</td>\n",
       "      <td>7</td>\n",
       "    </tr>\n",
       "    <tr>\n",
       "      <th>72</th>\n",
       "      <td>seahorse</td>\n",
       "      <td>0</td>\n",
       "      <td>0</td>\n",
       "      <td>1</td>\n",
       "      <td>0</td>\n",
       "      <td>0.0</td>\n",
       "      <td>1</td>\n",
       "      <td>0</td>\n",
       "      <td>1</td>\n",
       "      <td>1.0</td>\n",
       "      <td>0</td>\n",
       "      <td>0</td>\n",
       "      <td>1.0</td>\n",
       "      <td>NaN</td>\n",
       "      <td>1</td>\n",
       "      <td>0</td>\n",
       "      <td>0</td>\n",
       "      <td>4</td>\n",
       "    </tr>\n",
       "    <tr>\n",
       "      <th>73</th>\n",
       "      <td>seal</td>\n",
       "      <td>1</td>\n",
       "      <td>0</td>\n",
       "      <td>0</td>\n",
       "      <td>1</td>\n",
       "      <td>0.0</td>\n",
       "      <td>1</td>\n",
       "      <td>1</td>\n",
       "      <td>1</td>\n",
       "      <td>1.0</td>\n",
       "      <td>1</td>\n",
       "      <td>0</td>\n",
       "      <td>1.0</td>\n",
       "      <td>NaN</td>\n",
       "      <td>0</td>\n",
       "      <td>0</td>\n",
       "      <td>1</td>\n",
       "      <td>1</td>\n",
       "    </tr>\n",
       "    <tr>\n",
       "      <th>74</th>\n",
       "      <td>sealion</td>\n",
       "      <td>1</td>\n",
       "      <td>0</td>\n",
       "      <td>0</td>\n",
       "      <td>1</td>\n",
       "      <td>0.0</td>\n",
       "      <td>1</td>\n",
       "      <td>1</td>\n",
       "      <td>1</td>\n",
       "      <td>1.0</td>\n",
       "      <td>1</td>\n",
       "      <td>0</td>\n",
       "      <td>1.0</td>\n",
       "      <td>NaN</td>\n",
       "      <td>1</td>\n",
       "      <td>0</td>\n",
       "      <td>1</td>\n",
       "      <td>1</td>\n",
       "    </tr>\n",
       "    <tr>\n",
       "      <th>75</th>\n",
       "      <td>seasnake</td>\n",
       "      <td>0</td>\n",
       "      <td>0</td>\n",
       "      <td>0</td>\n",
       "      <td>0</td>\n",
       "      <td>0.0</td>\n",
       "      <td>1</td>\n",
       "      <td>1</td>\n",
       "      <td>1</td>\n",
       "      <td>1.0</td>\n",
       "      <td>0</td>\n",
       "      <td>1</td>\n",
       "      <td>0.0</td>\n",
       "      <td>NaN</td>\n",
       "      <td>1</td>\n",
       "      <td>0</td>\n",
       "      <td>0</td>\n",
       "      <td>3</td>\n",
       "    </tr>\n",
       "    <tr>\n",
       "      <th>76</th>\n",
       "      <td>seawasp</td>\n",
       "      <td>0</td>\n",
       "      <td>0</td>\n",
       "      <td>1</td>\n",
       "      <td>0</td>\n",
       "      <td>0.0</td>\n",
       "      <td>1</td>\n",
       "      <td>1</td>\n",
       "      <td>0</td>\n",
       "      <td>0.0</td>\n",
       "      <td>0</td>\n",
       "      <td>1</td>\n",
       "      <td>0.0</td>\n",
       "      <td>NaN</td>\n",
       "      <td>0</td>\n",
       "      <td>0</td>\n",
       "      <td>0</td>\n",
       "      <td>7</td>\n",
       "    </tr>\n",
       "    <tr>\n",
       "      <th>77</th>\n",
       "      <td>skimmer</td>\n",
       "      <td>0</td>\n",
       "      <td>1</td>\n",
       "      <td>1</td>\n",
       "      <td>0</td>\n",
       "      <td>1.0</td>\n",
       "      <td>1</td>\n",
       "      <td>1</td>\n",
       "      <td>0</td>\n",
       "      <td>1.0</td>\n",
       "      <td>1</td>\n",
       "      <td>0</td>\n",
       "      <td>0.0</td>\n",
       "      <td>NaN</td>\n",
       "      <td>1</td>\n",
       "      <td>0</td>\n",
       "      <td>0</td>\n",
       "      <td>2</td>\n",
       "    </tr>\n",
       "    <tr>\n",
       "      <th>78</th>\n",
       "      <td>skua</td>\n",
       "      <td>0</td>\n",
       "      <td>1</td>\n",
       "      <td>1</td>\n",
       "      <td>0</td>\n",
       "      <td>1.0</td>\n",
       "      <td>1</td>\n",
       "      <td>1</td>\n",
       "      <td>0</td>\n",
       "      <td>1.0</td>\n",
       "      <td>1</td>\n",
       "      <td>0</td>\n",
       "      <td>0.0</td>\n",
       "      <td>NaN</td>\n",
       "      <td>1</td>\n",
       "      <td>0</td>\n",
       "      <td>0</td>\n",
       "      <td>2</td>\n",
       "    </tr>\n",
       "    <tr>\n",
       "      <th>79</th>\n",
       "      <td>slowworm</td>\n",
       "      <td>0</td>\n",
       "      <td>0</td>\n",
       "      <td>1</td>\n",
       "      <td>0</td>\n",
       "      <td>0.0</td>\n",
       "      <td>0</td>\n",
       "      <td>1</td>\n",
       "      <td>1</td>\n",
       "      <td>1.0</td>\n",
       "      <td>1</td>\n",
       "      <td>0</td>\n",
       "      <td>0.0</td>\n",
       "      <td>NaN</td>\n",
       "      <td>1</td>\n",
       "      <td>0</td>\n",
       "      <td>0</td>\n",
       "      <td>3</td>\n",
       "    </tr>\n",
       "  </tbody>\n",
       "</table>\n",
       "</div>"
      ],
      "text/plain": [
       "   animal_name  hair  feathers  eggs milk  airborne aquatic  predator  \\\n",
       "59        pike     0         0     1    0       0.0       1         1   \n",
       "60     piranha     0         0     1    0       0.0       1         1   \n",
       "61    pitviper     0         0     1    0       0.0       0         1   \n",
       "62    platypus     1         0     1    1       0.0       1         1   \n",
       "63     polecat     1         0     0    1       0.0       0         1   \n",
       "64        pony     1         0     0    1       0.0       0         0   \n",
       "65    porpoise     0         0     0    1       0.0       1         1   \n",
       "66        puma     1         0     0    1       0.0       0         1   \n",
       "67    pussycat     1         0     0    1       0.0       0         1   \n",
       "68     raccoon     1         0     0    1       0.0       0         1   \n",
       "69    reindeer     1         0     0    1       0.0       0         0   \n",
       "70        rhea     0         1     1    0       0.0       0         1   \n",
       "71    scorpion     0         0     0    0       0.0       0         1   \n",
       "72    seahorse     0         0     1    0       0.0       1         0   \n",
       "73        seal     1         0     0    1       0.0       1         1   \n",
       "74     sealion     1         0     0    1       0.0       1         1   \n",
       "75    seasnake     0         0     0    0       0.0       1         1   \n",
       "76     seawasp     0         0     1    0       0.0       1         1   \n",
       "77     skimmer     0         1     1    0       1.0       1         1   \n",
       "78        skua     0         1     1    0       1.0       1         1   \n",
       "79    slowworm     0         0     1    0       0.0       0         1   \n",
       "\n",
       "    toothed  backbone  breathes  venomous  fins  legs  tail domestic  catsize  \\\n",
       "59        1       1.0         0         0   1.0   NaN     1        0        1   \n",
       "60        1       1.0         0         0   1.0   NaN     1        0        0   \n",
       "61        1       1.0         1         1   0.0   NaN     1        0        0   \n",
       "62        0       1.0         1         0   0.0   NaN     1        0        1   \n",
       "63        1       1.0         1         0   0.0   NaN     1        0        1   \n",
       "64        1       1.0         1         0   0.0   NaN     1        1        1   \n",
       "65        1       1.0         1         0   1.0   NaN     1        0        1   \n",
       "66        1       1.0         1         0   0.0   NaN     1        0        1   \n",
       "67        1       1.0         1         0   0.0   NaN     1        1        1   \n",
       "68        1       1.0         1         0   0.0   NaN     1        0        1   \n",
       "69        1       1.0         1         0   0.0   NaN     1        1        1   \n",
       "70        0       1.0         1         0   0.0   NaN     1        0        1   \n",
       "71        0       0.0         1         1   0.0   NaN     1        0        0   \n",
       "72        1       1.0         0         0   1.0   NaN     1        0        0   \n",
       "73        1       1.0         1         0   1.0   NaN     0        0        1   \n",
       "74        1       1.0         1         0   1.0   NaN     1        0        1   \n",
       "75        1       1.0         0         1   0.0   NaN     1        0        0   \n",
       "76        0       0.0         0         1   0.0   NaN     0        0        0   \n",
       "77        0       1.0         1         0   0.0   NaN     1        0        0   \n",
       "78        0       1.0         1         0   0.0   NaN     1        0        0   \n",
       "79        1       1.0         1         0   0.0   NaN     1        0        0   \n",
       "\n",
       "    class_type  \n",
       "59           4  \n",
       "60           4  \n",
       "61           3  \n",
       "62           1  \n",
       "63           1  \n",
       "64           1  \n",
       "65           1  \n",
       "66           1  \n",
       "67           1  \n",
       "68           1  \n",
       "69           1  \n",
       "70           2  \n",
       "71           7  \n",
       "72           4  \n",
       "73           1  \n",
       "74           1  \n",
       "75           3  \n",
       "76           7  \n",
       "77           2  \n",
       "78           2  \n",
       "79           3  "
      ]
     },
     "execution_count": 30,
     "metadata": {},
     "output_type": "execute_result"
    }
   ],
   "source": [
    "df[df[\"legs\"].isna()]"
   ]
  },
  {
   "cell_type": "code",
   "execution_count": 31,
   "metadata": {
    "ExecuteTime": {
     "end_time": "2023-06-26T19:24:14.910844Z",
     "start_time": "2023-06-26T19:24:14.811931Z"
    },
    "collapsed": false
   },
   "outputs": [],
   "source": [
    "df.loc[59, \"legs\"] = 0.\n",
    "df.loc[60, \"legs\"] = 0.\n",
    "df.loc[61, \"legs\"] = 0.\n",
    "df.loc[62, \"legs\"] = 4.\n",
    "df.loc[63, \"legs\"] = 4.\n",
    "df.loc[64, \"legs\"] = 4.\n",
    "df.loc[65, \"legs\"] = 0.\n",
    "df.loc[66, \"legs\"] = 4.\n",
    "df.loc[67, \"legs\"] = 4.\n",
    "df.loc[68, \"legs\"] = 4.\n",
    "df.loc[69, \"legs\"] = 4.\n",
    "df.loc[70, \"legs\"] = 2.\n",
    "df.loc[71, \"legs\"] = 6.\n",
    "df.loc[72, \"legs\"] = 0.\n",
    "df.loc[73, \"legs\"] = 0.\n",
    "df.loc[74, \"legs\"] = 0.\n",
    "df.loc[75, \"legs\"] = 0.\n",
    "df.loc[76, \"legs\"] = 0.\n",
    "df.loc[77, \"legs\"] = 2.\n",
    "df.loc[78, \"legs\"] = 2.\n",
    "df.loc[79, \"legs\"] = 0."
   ]
  },
  {
   "cell_type": "code",
   "execution_count": 32,
   "metadata": {
    "ExecuteTime": {
     "end_time": "2023-06-26T19:24:14.932253Z",
     "start_time": "2023-06-26T19:24:14.831426Z"
    },
    "collapsed": false
   },
   "outputs": [
    {
     "data": {
      "text/html": [
       "<div>\n",
       "<style scoped>\n",
       "    .dataframe tbody tr th:only-of-type {\n",
       "        vertical-align: middle;\n",
       "    }\n",
       "\n",
       "    .dataframe tbody tr th {\n",
       "        vertical-align: top;\n",
       "    }\n",
       "\n",
       "    .dataframe thead th {\n",
       "        text-align: right;\n",
       "    }\n",
       "</style>\n",
       "<table border=\"1\" class=\"dataframe\">\n",
       "  <thead>\n",
       "    <tr style=\"text-align: right;\">\n",
       "      <th></th>\n",
       "      <th>animal_name</th>\n",
       "      <th>hair</th>\n",
       "      <th>feathers</th>\n",
       "      <th>eggs</th>\n",
       "      <th>milk</th>\n",
       "      <th>airborne</th>\n",
       "      <th>aquatic</th>\n",
       "      <th>predator</th>\n",
       "      <th>toothed</th>\n",
       "      <th>backbone</th>\n",
       "      <th>breathes</th>\n",
       "      <th>venomous</th>\n",
       "      <th>fins</th>\n",
       "      <th>legs</th>\n",
       "      <th>tail</th>\n",
       "      <th>domestic</th>\n",
       "      <th>catsize</th>\n",
       "      <th>class_type</th>\n",
       "    </tr>\n",
       "  </thead>\n",
       "  <tbody>\n",
       "    <tr>\n",
       "      <th>18</th>\n",
       "      <td>dogfish</td>\n",
       "      <td>0</td>\n",
       "      <td>0</td>\n",
       "      <td>1</td>\n",
       "      <td>0</td>\n",
       "      <td>0.0</td>\n",
       "      <td>1</td>\n",
       "      <td>1</td>\n",
       "      <td>1</td>\n",
       "      <td>1.0</td>\n",
       "      <td>0</td>\n",
       "      <td>0</td>\n",
       "      <td>1.0</td>\n",
       "      <td>0.0</td>\n",
       "      <td>1</td>\n",
       "      <td>NaN</td>\n",
       "      <td>1</td>\n",
       "      <td>4</td>\n",
       "    </tr>\n",
       "    <tr>\n",
       "      <th>19</th>\n",
       "      <td>dolphin</td>\n",
       "      <td>0</td>\n",
       "      <td>0</td>\n",
       "      <td>0</td>\n",
       "      <td>1</td>\n",
       "      <td>0.0</td>\n",
       "      <td>1</td>\n",
       "      <td>1</td>\n",
       "      <td>1</td>\n",
       "      <td>1.0</td>\n",
       "      <td>1</td>\n",
       "      <td>0</td>\n",
       "      <td>1.0</td>\n",
       "      <td>0.0</td>\n",
       "      <td>1</td>\n",
       "      <td>NaN</td>\n",
       "      <td>1</td>\n",
       "      <td>1</td>\n",
       "    </tr>\n",
       "    <tr>\n",
       "      <th>20</th>\n",
       "      <td>dove</td>\n",
       "      <td>0</td>\n",
       "      <td>1</td>\n",
       "      <td>1</td>\n",
       "      <td>0</td>\n",
       "      <td>1.0</td>\n",
       "      <td>0</td>\n",
       "      <td>0</td>\n",
       "      <td>0</td>\n",
       "      <td>1.0</td>\n",
       "      <td>1</td>\n",
       "      <td>0</td>\n",
       "      <td>0.0</td>\n",
       "      <td>2.0</td>\n",
       "      <td>1</td>\n",
       "      <td>NaN</td>\n",
       "      <td>0</td>\n",
       "      <td>2</td>\n",
       "    </tr>\n",
       "    <tr>\n",
       "      <th>21</th>\n",
       "      <td>duck</td>\n",
       "      <td>0</td>\n",
       "      <td>1</td>\n",
       "      <td>1</td>\n",
       "      <td>0</td>\n",
       "      <td>1.0</td>\n",
       "      <td>1</td>\n",
       "      <td>0</td>\n",
       "      <td>0</td>\n",
       "      <td>1.0</td>\n",
       "      <td>1</td>\n",
       "      <td>0</td>\n",
       "      <td>0.0</td>\n",
       "      <td>2.0</td>\n",
       "      <td>1</td>\n",
       "      <td>NaN</td>\n",
       "      <td>0</td>\n",
       "      <td>2</td>\n",
       "    </tr>\n",
       "    <tr>\n",
       "      <th>22</th>\n",
       "      <td>elephant</td>\n",
       "      <td>1</td>\n",
       "      <td>0</td>\n",
       "      <td>0</td>\n",
       "      <td>1</td>\n",
       "      <td>0.0</td>\n",
       "      <td>0</td>\n",
       "      <td>0</td>\n",
       "      <td>1</td>\n",
       "      <td>1.0</td>\n",
       "      <td>1</td>\n",
       "      <td>0</td>\n",
       "      <td>0.0</td>\n",
       "      <td>4.0</td>\n",
       "      <td>1</td>\n",
       "      <td>NaN</td>\n",
       "      <td>1</td>\n",
       "      <td>1</td>\n",
       "    </tr>\n",
       "    <tr>\n",
       "      <th>23</th>\n",
       "      <td>flamingo</td>\n",
       "      <td>0</td>\n",
       "      <td>1</td>\n",
       "      <td>1</td>\n",
       "      <td>0</td>\n",
       "      <td>1.0</td>\n",
       "      <td>0</td>\n",
       "      <td>0</td>\n",
       "      <td>0</td>\n",
       "      <td>1.0</td>\n",
       "      <td>1</td>\n",
       "      <td>0</td>\n",
       "      <td>0.0</td>\n",
       "      <td>2.0</td>\n",
       "      <td>1</td>\n",
       "      <td>NaN</td>\n",
       "      <td>1</td>\n",
       "      <td>2</td>\n",
       "    </tr>\n",
       "    <tr>\n",
       "      <th>24</th>\n",
       "      <td>flea</td>\n",
       "      <td>0</td>\n",
       "      <td>0</td>\n",
       "      <td>1</td>\n",
       "      <td>0</td>\n",
       "      <td>0.0</td>\n",
       "      <td>0</td>\n",
       "      <td>0</td>\n",
       "      <td>0</td>\n",
       "      <td>0.0</td>\n",
       "      <td>1</td>\n",
       "      <td>0</td>\n",
       "      <td>0.0</td>\n",
       "      <td>6.0</td>\n",
       "      <td>0</td>\n",
       "      <td>NaN</td>\n",
       "      <td>0</td>\n",
       "      <td>6</td>\n",
       "    </tr>\n",
       "    <tr>\n",
       "      <th>25</th>\n",
       "      <td>frog</td>\n",
       "      <td>0</td>\n",
       "      <td>0</td>\n",
       "      <td>1</td>\n",
       "      <td>0</td>\n",
       "      <td>0.0</td>\n",
       "      <td>1</td>\n",
       "      <td>1</td>\n",
       "      <td>1</td>\n",
       "      <td>1.0</td>\n",
       "      <td>1</td>\n",
       "      <td>1</td>\n",
       "      <td>0.0</td>\n",
       "      <td>4.0</td>\n",
       "      <td>0</td>\n",
       "      <td>NaN</td>\n",
       "      <td>0</td>\n",
       "      <td>5</td>\n",
       "    </tr>\n",
       "    <tr>\n",
       "      <th>26</th>\n",
       "      <td>fruitbat</td>\n",
       "      <td>1</td>\n",
       "      <td>0</td>\n",
       "      <td>0</td>\n",
       "      <td>1</td>\n",
       "      <td>1.0</td>\n",
       "      <td>0</td>\n",
       "      <td>0</td>\n",
       "      <td>1</td>\n",
       "      <td>1.0</td>\n",
       "      <td>1</td>\n",
       "      <td>0</td>\n",
       "      <td>0.0</td>\n",
       "      <td>2.0</td>\n",
       "      <td>1</td>\n",
       "      <td>NaN</td>\n",
       "      <td>0</td>\n",
       "      <td>1</td>\n",
       "    </tr>\n",
       "    <tr>\n",
       "      <th>27</th>\n",
       "      <td>giraffe</td>\n",
       "      <td>1</td>\n",
       "      <td>0</td>\n",
       "      <td>0</td>\n",
       "      <td>1</td>\n",
       "      <td>0.0</td>\n",
       "      <td>0</td>\n",
       "      <td>0</td>\n",
       "      <td>1</td>\n",
       "      <td>1.0</td>\n",
       "      <td>1</td>\n",
       "      <td>0</td>\n",
       "      <td>0.0</td>\n",
       "      <td>4.0</td>\n",
       "      <td>1</td>\n",
       "      <td>NaN</td>\n",
       "      <td>1</td>\n",
       "      <td>1</td>\n",
       "    </tr>\n",
       "    <tr>\n",
       "      <th>28</th>\n",
       "      <td>girl</td>\n",
       "      <td>1</td>\n",
       "      <td>0</td>\n",
       "      <td>0</td>\n",
       "      <td>1</td>\n",
       "      <td>0.0</td>\n",
       "      <td>0</td>\n",
       "      <td>1</td>\n",
       "      <td>1</td>\n",
       "      <td>1.0</td>\n",
       "      <td>1</td>\n",
       "      <td>0</td>\n",
       "      <td>0.0</td>\n",
       "      <td>2.0</td>\n",
       "      <td>0</td>\n",
       "      <td>NaN</td>\n",
       "      <td>1</td>\n",
       "      <td>1</td>\n",
       "    </tr>\n",
       "    <tr>\n",
       "      <th>29</th>\n",
       "      <td>gnat</td>\n",
       "      <td>0</td>\n",
       "      <td>0</td>\n",
       "      <td>1</td>\n",
       "      <td>0</td>\n",
       "      <td>1.0</td>\n",
       "      <td>0</td>\n",
       "      <td>0</td>\n",
       "      <td>0</td>\n",
       "      <td>0.0</td>\n",
       "      <td>1</td>\n",
       "      <td>0</td>\n",
       "      <td>0.0</td>\n",
       "      <td>6.0</td>\n",
       "      <td>0</td>\n",
       "      <td>NaN</td>\n",
       "      <td>0</td>\n",
       "      <td>6</td>\n",
       "    </tr>\n",
       "  </tbody>\n",
       "</table>\n",
       "</div>"
      ],
      "text/plain": [
       "   animal_name  hair  feathers  eggs milk  airborne aquatic  predator  \\\n",
       "18     dogfish     0         0     1    0       0.0       1         1   \n",
       "19     dolphin     0         0     0    1       0.0       1         1   \n",
       "20        dove     0         1     1    0       1.0       0         0   \n",
       "21        duck     0         1     1    0       1.0       1         0   \n",
       "22    elephant     1         0     0    1       0.0       0         0   \n",
       "23    flamingo     0         1     1    0       1.0       0         0   \n",
       "24        flea     0         0     1    0       0.0       0         0   \n",
       "25        frog     0         0     1    0       0.0       1         1   \n",
       "26    fruitbat     1         0     0    1       1.0       0         0   \n",
       "27     giraffe     1         0     0    1       0.0       0         0   \n",
       "28        girl     1         0     0    1       0.0       0         1   \n",
       "29        gnat     0         0     1    0       1.0       0         0   \n",
       "\n",
       "    toothed  backbone  breathes  venomous  fins  legs  tail domestic  catsize  \\\n",
       "18        1       1.0         0         0   1.0   0.0     1      NaN        1   \n",
       "19        1       1.0         1         0   1.0   0.0     1      NaN        1   \n",
       "20        0       1.0         1         0   0.0   2.0     1      NaN        0   \n",
       "21        0       1.0         1         0   0.0   2.0     1      NaN        0   \n",
       "22        1       1.0         1         0   0.0   4.0     1      NaN        1   \n",
       "23        0       1.0         1         0   0.0   2.0     1      NaN        1   \n",
       "24        0       0.0         1         0   0.0   6.0     0      NaN        0   \n",
       "25        1       1.0         1         1   0.0   4.0     0      NaN        0   \n",
       "26        1       1.0         1         0   0.0   2.0     1      NaN        0   \n",
       "27        1       1.0         1         0   0.0   4.0     1      NaN        1   \n",
       "28        1       1.0         1         0   0.0   2.0     0      NaN        1   \n",
       "29        0       0.0         1         0   0.0   6.0     0      NaN        0   \n",
       "\n",
       "    class_type  \n",
       "18           4  \n",
       "19           1  \n",
       "20           2  \n",
       "21           2  \n",
       "22           1  \n",
       "23           2  \n",
       "24           6  \n",
       "25           5  \n",
       "26           1  \n",
       "27           1  \n",
       "28           1  \n",
       "29           6  "
      ]
     },
     "execution_count": 32,
     "metadata": {},
     "output_type": "execute_result"
    }
   ],
   "source": [
    "df[df[\"domestic\"].isna()]"
   ]
  },
  {
   "cell_type": "code",
   "execution_count": 33,
   "metadata": {
    "ExecuteTime": {
     "end_time": "2023-06-26T19:24:14.932452Z",
     "start_time": "2023-06-26T19:24:14.832298Z"
    },
    "collapsed": false
   },
   "outputs": [],
   "source": [
    "df.loc[18, \"domestic\"] = 0\n",
    "df.loc[19, \"domestic\"] = 0\n",
    "df.loc[20, \"domestic\"] = 0\n",
    "df.loc[21, \"domestic\"] = 0\n",
    "df.loc[22, \"domestic\"] = 0\n",
    "df.loc[23, \"domestic\"] = 0\n",
    "df.loc[24, \"domestic\"] = 0\n",
    "df.loc[25, \"domestic\"] = 0\n",
    "df.loc[26, \"domestic\"] = 0\n",
    "df.loc[27, \"domestic\"] = 0\n",
    "df.loc[28, \"domestic\"] = 1\n",
    "df.loc[29, \"domestic\"] = 0"
   ]
  },
  {
   "cell_type": "code",
   "execution_count": 34,
   "metadata": {
    "ExecuteTime": {
     "end_time": "2023-06-26T19:24:14.932578Z",
     "start_time": "2023-06-26T19:24:14.837084Z"
    },
    "collapsed": false
   },
   "outputs": [
    {
     "data": {
      "text/plain": [
       "animal_name    0\n",
       "hair           0\n",
       "feathers       0\n",
       "eggs           0\n",
       "milk           0\n",
       "airborne       0\n",
       "aquatic        0\n",
       "predator       0\n",
       "toothed        0\n",
       "backbone       0\n",
       "breathes       0\n",
       "venomous       0\n",
       "fins           0\n",
       "legs           0\n",
       "tail           0\n",
       "domestic       0\n",
       "catsize        0\n",
       "class_type     0\n",
       "dtype: int64"
      ]
     },
     "execution_count": 34,
     "metadata": {},
     "output_type": "execute_result"
    }
   ],
   "source": [
    "df.isna().sum()"
   ]
  },
  {
   "cell_type": "code",
   "execution_count": 35,
   "metadata": {
    "ExecuteTime": {
     "end_time": "2023-06-26T19:24:14.957258Z",
     "start_time": "2023-06-26T19:24:14.847725Z"
    },
    "collapsed": false
   },
   "outputs": [
    {
     "data": {
      "text/html": [
       "<div>\n",
       "<style scoped>\n",
       "    .dataframe tbody tr th:only-of-type {\n",
       "        vertical-align: middle;\n",
       "    }\n",
       "\n",
       "    .dataframe tbody tr th {\n",
       "        vertical-align: top;\n",
       "    }\n",
       "\n",
       "    .dataframe thead th {\n",
       "        text-align: right;\n",
       "    }\n",
       "</style>\n",
       "<table border=\"1\" class=\"dataframe\">\n",
       "  <thead>\n",
       "    <tr style=\"text-align: right;\">\n",
       "      <th></th>\n",
       "      <th>animal_name</th>\n",
       "      <th>hair</th>\n",
       "      <th>feathers</th>\n",
       "      <th>eggs</th>\n",
       "      <th>milk</th>\n",
       "      <th>airborne</th>\n",
       "      <th>aquatic</th>\n",
       "      <th>predator</th>\n",
       "      <th>toothed</th>\n",
       "      <th>backbone</th>\n",
       "      <th>breathes</th>\n",
       "      <th>venomous</th>\n",
       "      <th>fins</th>\n",
       "      <th>legs</th>\n",
       "      <th>tail</th>\n",
       "      <th>domestic</th>\n",
       "      <th>catsize</th>\n",
       "      <th>class_type</th>\n",
       "    </tr>\n",
       "  </thead>\n",
       "  <tbody>\n",
       "    <tr>\n",
       "      <th>0</th>\n",
       "      <td>aardvark</td>\n",
       "      <td>1</td>\n",
       "      <td>0</td>\n",
       "      <td>0</td>\n",
       "      <td>1</td>\n",
       "      <td>0.0</td>\n",
       "      <td>0</td>\n",
       "      <td>1</td>\n",
       "      <td>1</td>\n",
       "      <td>1.0</td>\n",
       "      <td>1</td>\n",
       "      <td>0</td>\n",
       "      <td>0.0</td>\n",
       "      <td>4.0</td>\n",
       "      <td>0</td>\n",
       "      <td>0</td>\n",
       "      <td>1</td>\n",
       "      <td>1</td>\n",
       "    </tr>\n",
       "    <tr>\n",
       "      <th>1</th>\n",
       "      <td>antelope</td>\n",
       "      <td>1</td>\n",
       "      <td>0</td>\n",
       "      <td>0</td>\n",
       "      <td>1</td>\n",
       "      <td>0.0</td>\n",
       "      <td>0</td>\n",
       "      <td>0</td>\n",
       "      <td>1</td>\n",
       "      <td>1.0</td>\n",
       "      <td>1</td>\n",
       "      <td>0</td>\n",
       "      <td>0.0</td>\n",
       "      <td>4.0</td>\n",
       "      <td>1</td>\n",
       "      <td>0</td>\n",
       "      <td>1</td>\n",
       "      <td>1</td>\n",
       "    </tr>\n",
       "    <tr>\n",
       "      <th>2</th>\n",
       "      <td>bass</td>\n",
       "      <td>0</td>\n",
       "      <td>0</td>\n",
       "      <td>1</td>\n",
       "      <td>0</td>\n",
       "      <td>0.0</td>\n",
       "      <td>1</td>\n",
       "      <td>1</td>\n",
       "      <td>1</td>\n",
       "      <td>1.0</td>\n",
       "      <td>0</td>\n",
       "      <td>0</td>\n",
       "      <td>1.0</td>\n",
       "      <td>0.0</td>\n",
       "      <td>1</td>\n",
       "      <td>0</td>\n",
       "      <td>0</td>\n",
       "      <td>4</td>\n",
       "    </tr>\n",
       "    <tr>\n",
       "      <th>3</th>\n",
       "      <td>bear</td>\n",
       "      <td>1</td>\n",
       "      <td>0</td>\n",
       "      <td>0</td>\n",
       "      <td>1</td>\n",
       "      <td>0.0</td>\n",
       "      <td>0</td>\n",
       "      <td>1</td>\n",
       "      <td>1</td>\n",
       "      <td>1.0</td>\n",
       "      <td>1</td>\n",
       "      <td>0</td>\n",
       "      <td>0.0</td>\n",
       "      <td>4.0</td>\n",
       "      <td>0</td>\n",
       "      <td>0</td>\n",
       "      <td>1</td>\n",
       "      <td>1</td>\n",
       "    </tr>\n",
       "    <tr>\n",
       "      <th>4</th>\n",
       "      <td>boar</td>\n",
       "      <td>1</td>\n",
       "      <td>0</td>\n",
       "      <td>0</td>\n",
       "      <td>1</td>\n",
       "      <td>0.0</td>\n",
       "      <td>0</td>\n",
       "      <td>1</td>\n",
       "      <td>1</td>\n",
       "      <td>1.0</td>\n",
       "      <td>1</td>\n",
       "      <td>0</td>\n",
       "      <td>0.0</td>\n",
       "      <td>4.0</td>\n",
       "      <td>1</td>\n",
       "      <td>0</td>\n",
       "      <td>1</td>\n",
       "      <td>1</td>\n",
       "    </tr>\n",
       "  </tbody>\n",
       "</table>\n",
       "</div>"
      ],
      "text/plain": [
       "  animal_name  hair  feathers  eggs milk  airborne aquatic  predator  toothed  \\\n",
       "0    aardvark     1         0     0    1       0.0       0         1        1   \n",
       "1    antelope     1         0     0    1       0.0       0         0        1   \n",
       "2        bass     0         0     1    0       0.0       1         1        1   \n",
       "3        bear     1         0     0    1       0.0       0         1        1   \n",
       "4        boar     1         0     0    1       0.0       0         1        1   \n",
       "\n",
       "   backbone  breathes  venomous  fins  legs  tail domestic  catsize  \\\n",
       "0       1.0         1         0   0.0   4.0     0        0        1   \n",
       "1       1.0         1         0   0.0   4.0     1        0        1   \n",
       "2       1.0         0         0   1.0   0.0     1        0        0   \n",
       "3       1.0         1         0   0.0   4.0     0        0        1   \n",
       "4       1.0         1         0   0.0   4.0     1        0        1   \n",
       "\n",
       "   class_type  \n",
       "0           1  \n",
       "1           1  \n",
       "2           4  \n",
       "3           1  \n",
       "4           1  "
      ]
     },
     "execution_count": 35,
     "metadata": {},
     "output_type": "execute_result"
    }
   ],
   "source": [
    "df.head()"
   ]
  },
  {
   "cell_type": "code",
   "execution_count": 36,
   "metadata": {
    "ExecuteTime": {
     "end_time": "2023-06-26T19:24:14.959120Z",
     "start_time": "2023-06-26T19:24:14.856679Z"
    },
    "collapsed": false
   },
   "outputs": [],
   "source": [
    "# df[\"legs\"].unique()"
   ]
  },
  {
   "cell_type": "code",
   "execution_count": 37,
   "metadata": {
    "ExecuteTime": {
     "end_time": "2023-06-26T19:24:14.959237Z",
     "start_time": "2023-06-26T19:24:14.856797Z"
    },
    "collapsed": false
   },
   "outputs": [],
   "source": [
    "# legs_vect = np.zeros((100, 6))"
   ]
  },
  {
   "cell_type": "code",
   "execution_count": 38,
   "metadata": {
    "ExecuteTime": {
     "end_time": "2023-06-26T19:24:14.959284Z",
     "start_time": "2023-06-26T19:24:14.856833Z"
    },
    "collapsed": false
   },
   "outputs": [],
   "source": [
    "# mapper={0: 0,\n",
    "#         2: 1,\n",
    "#         4: 2,\n",
    "#         5: 3,\n",
    "#         6: 4,\n",
    "#         8: 5}"
   ]
  },
  {
   "cell_type": "code",
   "execution_count": 39,
   "metadata": {
    "ExecuteTime": {
     "end_time": "2023-06-26T19:24:14.959356Z",
     "start_time": "2023-06-26T19:24:14.857863Z"
    },
    "collapsed": false
   },
   "outputs": [],
   "source": [
    "# for i in range(df.shape[0]):\n",
    "#     # legs_vect[i, mapper[(int(df.iloc[i, 13]))]] += 1"
   ]
  },
  {
   "cell_type": "code",
   "execution_count": 40,
   "metadata": {
    "ExecuteTime": {
     "end_time": "2023-06-26T19:24:14.959439Z",
     "start_time": "2023-06-26T19:24:14.860187Z"
    },
    "collapsed": false
   },
   "outputs": [],
   "source": [
    "# legs_vect"
   ]
  },
  {
   "cell_type": "code",
   "execution_count": 41,
   "metadata": {
    "ExecuteTime": {
     "end_time": "2023-06-26T19:24:14.959510Z",
     "start_time": "2023-06-26T19:24:14.862878Z"
    },
    "collapsed": false
   },
   "outputs": [],
   "source": [
    "# legs_vect = pd.DataFrame(legs_vect, columns=[str(n)+\"legs\"\n",
    "#                                              for n in list(mapper.keys())])\n",
    "\n",
    "# legs_vect.head()"
   ]
  },
  {
   "cell_type": "code",
   "execution_count": 42,
   "metadata": {
    "ExecuteTime": {
     "end_time": "2023-06-26T19:24:14.959553Z",
     "start_time": "2023-06-26T19:24:14.866703Z"
    },
    "collapsed": false
   },
   "outputs": [],
   "source": [
    "# tmp = df[\"class_type\"]"
   ]
  },
  {
   "cell_type": "code",
   "execution_count": 43,
   "metadata": {
    "ExecuteTime": {
     "end_time": "2023-06-26T19:24:14.959598Z",
     "start_time": "2023-06-26T19:24:14.870509Z"
    },
    "collapsed": false
   },
   "outputs": [],
   "source": [
    "# df.drop([\"class_type\"], axis=1, inplace=True)\n",
    "# df.drop([\"legs\"], axis=1, inplace=True)"
   ]
  },
  {
   "cell_type": "code",
   "execution_count": 44,
   "metadata": {
    "ExecuteTime": {
     "end_time": "2023-06-26T19:24:14.971794Z",
     "start_time": "2023-06-26T19:24:14.873684Z"
    },
    "collapsed": false
   },
   "outputs": [],
   "source": [
    "# df = df.join(legs_vect)\n",
    "# df = df.join(tmp)\n",
    "# df.head()"
   ]
  },
  {
   "cell_type": "code",
   "execution_count": 45,
   "metadata": {
    "ExecuteTime": {
     "end_time": "2023-06-26T19:24:14.975296Z",
     "start_time": "2023-06-26T19:24:14.876230Z"
    },
    "collapsed": false
   },
   "outputs": [],
   "source": [
    "# df.columns"
   ]
  },
  {
   "cell_type": "code",
   "execution_count": 46,
   "metadata": {
    "ExecuteTime": {
     "end_time": "2023-06-26T19:24:14.975487Z",
     "start_time": "2023-06-26T19:24:14.880853Z"
    },
    "collapsed": false
   },
   "outputs": [],
   "source": [
    "cols2conv_int = [col\n",
    "                 for col in df.columns\n",
    "                 if col != \"animal_name\"]\n",
    "\n",
    "df[cols2conv_int] = df[cols2conv_int].astype(int)\n",
    "\n",
    "cols2conv_bool = [col\n",
    "                  for col in df.columns\n",
    "                  if col not in [\"animal_name\", \"legs\", \"class_type\"]]\n",
    "\n",
    "df[cols2conv_bool] = df[cols2conv_bool].astype(bool)"
   ]
  },
  {
   "cell_type": "code",
   "execution_count": 47,
   "metadata": {
    "ExecuteTime": {
     "end_time": "2023-06-26T19:24:14.975711Z",
     "start_time": "2023-06-26T19:24:14.897023Z"
    },
    "collapsed": false
   },
   "outputs": [
    {
     "data": {
      "text/plain": [
       "animal_name    object\n",
       "hair             bool\n",
       "feathers         bool\n",
       "eggs             bool\n",
       "milk             bool\n",
       "airborne         bool\n",
       "aquatic          bool\n",
       "predator         bool\n",
       "toothed          bool\n",
       "backbone         bool\n",
       "breathes         bool\n",
       "venomous         bool\n",
       "fins             bool\n",
       "legs            int64\n",
       "tail             bool\n",
       "domestic         bool\n",
       "catsize          bool\n",
       "class_type      int64\n",
       "dtype: object"
      ]
     },
     "execution_count": 47,
     "metadata": {},
     "output_type": "execute_result"
    }
   ],
   "source": [
    "df.dtypes"
   ]
  },
  {
   "cell_type": "code",
   "execution_count": 48,
   "metadata": {
    "ExecuteTime": {
     "end_time": "2023-06-26T19:24:14.975798Z",
     "start_time": "2023-06-26T19:24:14.900015Z"
    },
    "collapsed": false
   },
   "outputs": [
    {
     "data": {
      "text/html": [
       "<div>\n",
       "<style scoped>\n",
       "    .dataframe tbody tr th:only-of-type {\n",
       "        vertical-align: middle;\n",
       "    }\n",
       "\n",
       "    .dataframe tbody tr th {\n",
       "        vertical-align: top;\n",
       "    }\n",
       "\n",
       "    .dataframe thead th {\n",
       "        text-align: right;\n",
       "    }\n",
       "</style>\n",
       "<table border=\"1\" class=\"dataframe\">\n",
       "  <thead>\n",
       "    <tr style=\"text-align: right;\">\n",
       "      <th></th>\n",
       "      <th>animal_name</th>\n",
       "      <th>hair</th>\n",
       "      <th>feathers</th>\n",
       "      <th>eggs</th>\n",
       "      <th>milk</th>\n",
       "      <th>airborne</th>\n",
       "      <th>aquatic</th>\n",
       "      <th>predator</th>\n",
       "      <th>toothed</th>\n",
       "      <th>backbone</th>\n",
       "      <th>breathes</th>\n",
       "      <th>venomous</th>\n",
       "      <th>fins</th>\n",
       "      <th>legs</th>\n",
       "      <th>tail</th>\n",
       "      <th>domestic</th>\n",
       "      <th>catsize</th>\n",
       "      <th>class_type</th>\n",
       "    </tr>\n",
       "  </thead>\n",
       "  <tbody>\n",
       "    <tr>\n",
       "      <th>0</th>\n",
       "      <td>aardvark</td>\n",
       "      <td>True</td>\n",
       "      <td>False</td>\n",
       "      <td>False</td>\n",
       "      <td>True</td>\n",
       "      <td>False</td>\n",
       "      <td>False</td>\n",
       "      <td>True</td>\n",
       "      <td>True</td>\n",
       "      <td>True</td>\n",
       "      <td>True</td>\n",
       "      <td>False</td>\n",
       "      <td>False</td>\n",
       "      <td>4</td>\n",
       "      <td>False</td>\n",
       "      <td>False</td>\n",
       "      <td>True</td>\n",
       "      <td>1</td>\n",
       "    </tr>\n",
       "    <tr>\n",
       "      <th>1</th>\n",
       "      <td>antelope</td>\n",
       "      <td>True</td>\n",
       "      <td>False</td>\n",
       "      <td>False</td>\n",
       "      <td>True</td>\n",
       "      <td>False</td>\n",
       "      <td>False</td>\n",
       "      <td>False</td>\n",
       "      <td>True</td>\n",
       "      <td>True</td>\n",
       "      <td>True</td>\n",
       "      <td>False</td>\n",
       "      <td>False</td>\n",
       "      <td>4</td>\n",
       "      <td>True</td>\n",
       "      <td>False</td>\n",
       "      <td>True</td>\n",
       "      <td>1</td>\n",
       "    </tr>\n",
       "    <tr>\n",
       "      <th>2</th>\n",
       "      <td>bass</td>\n",
       "      <td>False</td>\n",
       "      <td>False</td>\n",
       "      <td>True</td>\n",
       "      <td>False</td>\n",
       "      <td>False</td>\n",
       "      <td>True</td>\n",
       "      <td>True</td>\n",
       "      <td>True</td>\n",
       "      <td>True</td>\n",
       "      <td>False</td>\n",
       "      <td>False</td>\n",
       "      <td>True</td>\n",
       "      <td>0</td>\n",
       "      <td>True</td>\n",
       "      <td>False</td>\n",
       "      <td>False</td>\n",
       "      <td>4</td>\n",
       "    </tr>\n",
       "    <tr>\n",
       "      <th>3</th>\n",
       "      <td>bear</td>\n",
       "      <td>True</td>\n",
       "      <td>False</td>\n",
       "      <td>False</td>\n",
       "      <td>True</td>\n",
       "      <td>False</td>\n",
       "      <td>False</td>\n",
       "      <td>True</td>\n",
       "      <td>True</td>\n",
       "      <td>True</td>\n",
       "      <td>True</td>\n",
       "      <td>False</td>\n",
       "      <td>False</td>\n",
       "      <td>4</td>\n",
       "      <td>False</td>\n",
       "      <td>False</td>\n",
       "      <td>True</td>\n",
       "      <td>1</td>\n",
       "    </tr>\n",
       "    <tr>\n",
       "      <th>4</th>\n",
       "      <td>boar</td>\n",
       "      <td>True</td>\n",
       "      <td>False</td>\n",
       "      <td>False</td>\n",
       "      <td>True</td>\n",
       "      <td>False</td>\n",
       "      <td>False</td>\n",
       "      <td>True</td>\n",
       "      <td>True</td>\n",
       "      <td>True</td>\n",
       "      <td>True</td>\n",
       "      <td>False</td>\n",
       "      <td>False</td>\n",
       "      <td>4</td>\n",
       "      <td>True</td>\n",
       "      <td>False</td>\n",
       "      <td>True</td>\n",
       "      <td>1</td>\n",
       "    </tr>\n",
       "  </tbody>\n",
       "</table>\n",
       "</div>"
      ],
      "text/plain": [
       "  animal_name   hair  feathers   eggs   milk  airborne  aquatic  predator  \\\n",
       "0    aardvark   True     False  False   True     False    False      True   \n",
       "1    antelope   True     False  False   True     False    False     False   \n",
       "2        bass  False     False   True  False     False     True      True   \n",
       "3        bear   True     False  False   True     False    False      True   \n",
       "4        boar   True     False  False   True     False    False      True   \n",
       "\n",
       "   toothed  backbone  breathes  venomous   fins  legs   tail  domestic  \\\n",
       "0     True      True      True     False  False     4  False     False   \n",
       "1     True      True      True     False  False     4   True     False   \n",
       "2     True      True     False     False   True     0   True     False   \n",
       "3     True      True      True     False  False     4  False     False   \n",
       "4     True      True      True     False  False     4   True     False   \n",
       "\n",
       "   catsize  class_type  \n",
       "0     True           1  \n",
       "1     True           1  \n",
       "2    False           4  \n",
       "3     True           1  \n",
       "4     True           1  "
      ]
     },
     "execution_count": 48,
     "metadata": {},
     "output_type": "execute_result"
    }
   ],
   "source": [
    "df.head()"
   ]
  },
  {
   "cell_type": "code",
   "execution_count": 49,
   "metadata": {
    "ExecuteTime": {
     "end_time": "2023-06-26T19:24:14.975892Z",
     "start_time": "2023-06-26T19:24:14.901788Z"
    },
    "collapsed": false
   },
   "outputs": [
    {
     "data": {
      "text/plain": [
       "class_type\n",
       "1    41\n",
       "2    20\n",
       "3     5\n",
       "4    13\n",
       "5     3\n",
       "6     8\n",
       "7    10\n",
       "Name: class_type, dtype: int64"
      ]
     },
     "execution_count": 49,
     "metadata": {},
     "output_type": "execute_result"
    }
   ],
   "source": [
    "classes_n = df.groupby([\"class_type\"])[\"class_type\"].count()\n",
    "classes_n"
   ]
  },
  {
   "cell_type": "code",
   "execution_count": 50,
   "metadata": {
    "ExecuteTime": {
     "end_time": "2023-06-26T19:24:15.231093Z",
     "start_time": "2023-06-26T19:24:14.908401Z"
    },
    "collapsed": false
   },
   "outputs": [
    {
     "data": {
      "image/png": "[encoded data removed]",
      "text/plain": [
       "<Figure size 640x480 with 1 Axes>"
      ]
     },
     "metadata": {},
     "output_type": "display_data"
    }
   ],
   "source": [
    "plt.bar(range(1, 8), height=classes_n)\n",
    "plt.title(\"Number of animals in different classes\")\n",
    "plt.xlabel(\"Class\")\n",
    "plt.show()"
   ]
  },
  {
   "cell_type": "code",
   "execution_count": 51,
   "metadata": {
    "ExecuteTime": {
     "end_time": "2023-06-26T19:24:15.231362Z",
     "start_time": "2023-06-26T19:24:15.138264Z"
    },
    "collapsed": false
   },
   "outputs": [],
   "source": [
    "corr_matrix = round(df.iloc[:, :-1].corr(), 2)"
   ]
  },
  {
   "cell_type": "code",
   "execution_count": 52,
   "metadata": {
    "ExecuteTime": {
     "end_time": "2023-06-26T19:24:15.231483Z",
     "start_time": "2023-06-26T19:24:15.149099Z"
    },
    "collapsed": false
   },
   "outputs": [],
   "source": [
    "import seaborn as sns\n",
    "sns.set(rc={'figure.figsize':(15,10)})"
   ]
  },
  {
   "cell_type": "code",
   "execution_count": 53,
   "metadata": {
    "ExecuteTime": {
     "end_time": "2023-06-26T19:24:15.675335Z",
     "start_time": "2023-06-26T19:24:15.153300Z"
    },
    "collapsed": false
   },
   "outputs": [
    {
     "data": {
      "image/png": "[encoded data removed]",
      "text/plain": [
       "<Figure size 1500x1000 with 2 Axes>"
      ]
     },
     "metadata": {},
     "output_type": "display_data"
    }
   ],
   "source": [
    "sns.heatmap(corr_matrix, annot=True)\n",
    "plt.title(\"Zoo data - correlation matrix\")\n",
    "plt.show()"
   ]
  },
  {
   "cell_type": "code",
   "execution_count": 54,
   "metadata": {
    "ExecuteTime": {
     "end_time": "2023-06-26T19:24:16.325203Z",
     "start_time": "2023-06-26T19:24:15.944720Z"
    },
    "collapsed": false
   },
   "outputs": [],
   "source": [
    "X = df.iloc[:, 1:-1]\n",
    "y = np.array(df[\"class_type\"])"
   ]
  },
  {
   "cell_type": "code",
   "execution_count": 55,
   "metadata": {
    "ExecuteTime": {
     "end_time": "2023-06-26T19:24:18.239551Z",
     "start_time": "2023-06-26T19:24:18.207117Z"
    },
    "collapsed": false
   },
   "outputs": [],
   "source": [
    "X = (X - X.mean() ) / X.std()"
   ]
  },
  {
   "cell_type": "code",
   "execution_count": 56,
   "metadata": {
    "ExecuteTime": {
     "end_time": "2023-06-26T19:24:19.209253Z",
     "start_time": "2023-06-26T19:24:18.797176Z"
    },
    "collapsed": false
   },
   "outputs": [],
   "source": [
    "from sklearn.model_selection import train_test_split"
   ]
  },
  {
   "cell_type": "code",
   "execution_count": 57,
   "metadata": {
    "ExecuteTime": {
     "end_time": "2023-06-26T19:24:19.400004Z",
     "start_time": "2023-06-26T19:24:19.395753Z"
    },
    "collapsed": false
   },
   "outputs": [],
   "source": [
    "X_train, X_test, y_train, y_test = train_test_split(X, y, random_state=2023)"
   ]
  },
  {
   "cell_type": "markdown",
   "metadata": {
    "collapsed": false
   },
   "source": [
    "# Unsupervised"
   ]
  },
  {
   "cell_type": "markdown",
   "metadata": {
    "collapsed": false
   },
   "source": [
    "# 1. K-Means"
   ]
  },
  {
   "cell_type": "code",
   "execution_count": 58,
   "metadata": {
    "ExecuteTime": {
     "end_time": "2023-06-26T19:26:43.796123Z",
     "start_time": "2023-06-26T19:26:43.787737Z"
    },
    "collapsed": false
   },
   "outputs": [],
   "source": [
    "from sklearn.cluster import KMeans\n",
    "from sklearn.metrics import silhouette_score"
   ]
  },
  {
   "cell_type": "code",
   "execution_count": 59,
   "metadata": {
    "ExecuteTime": {
     "end_time": "2023-06-26T19:26:44.010082Z",
     "start_time": "2023-06-26T19:26:43.966812Z"
    },
    "collapsed": false
   },
   "outputs": [],
   "source": [
    "sil_scores = []\n",
    "\n",
    "for k in range(2, 11):\n",
    "\n",
    "    model = KMeans(n_clusters=k, n_init='auto',random_state=2023).fit(X)\n",
    "    y_pred = model.labels_\n",
    "    sil_scores.append(silhouette_score(X, y_pred))"
   ]
  },
  {
   "cell_type": "code",
   "execution_count": 60,
   "metadata": {
    "ExecuteTime": {
     "end_time": "2023-06-26T19:26:44.636640Z",
     "start_time": "2023-06-26T19:26:44.455925Z"
    },
    "collapsed": false
   },
   "outputs": [
    {
     "data": {
      "image/png": "[encoded data removed]",
      "text/plain": [
       "<Figure size 1500x1000 with 1 Axes>"
      ]
     },
     "metadata": {},
     "output_type": "display_data"
    }
   ],
   "source": [
    "plt.plot(range(2,11), sil_scores)\n",
    "plt.title(\"K-means silouethe score plot\")\n",
    "plt.xlabel(\"k\")\n",
    "plt.ylabel(\"silouethe score\")\n",
    "plt.show()"
   ]
  },
  {
   "cell_type": "markdown",
   "metadata": {
    "collapsed": false
   },
   "source": [
    "Z jakiegoś powodu wygrywa k=5"
   ]
  },
  {
   "cell_type": "markdown",
   "metadata": {
    "collapsed": false
   },
   "source": [
    "Sprawdzmy zatem jakie klastry daje arbitralne 5 klastrow."
   ]
  },
  {
   "cell_type": "code",
   "execution_count": 61,
   "metadata": {
    "ExecuteTime": {
     "end_time": "2023-06-26T19:26:45.410469Z",
     "start_time": "2023-06-26T19:26:45.388992Z"
    },
    "collapsed": false
   },
   "outputs": [],
   "source": [
    "from sklearn.metrics import adjusted_rand_score, normalized_mutual_info_score"
   ]
  },
  {
   "cell_type": "code",
   "execution_count": 62,
   "metadata": {
    "ExecuteTime": {
     "end_time": "2023-06-26T19:26:45.552141Z",
     "start_time": "2023-06-26T19:26:45.540545Z"
    },
    "collapsed": false
   },
   "outputs": [],
   "source": [
    "model = KMeans(n_clusters=5, n_init=\"auto\", random_state=2023).fit(X)"
   ]
  },
  {
   "cell_type": "code",
   "execution_count": 63,
   "metadata": {
    "ExecuteTime": {
     "end_time": "2023-06-26T19:26:45.666910Z",
     "start_time": "2023-06-26T19:26:45.658157Z"
    },
    "collapsed": false
   },
   "outputs": [
    {
     "data": {
      "text/plain": [
       "{0: ['flea',\n",
       "  'gnat',\n",
       "  'honeybee',\n",
       "  'housefly',\n",
       "  'ladybird',\n",
       "  'moth',\n",
       "  'scorpion',\n",
       "  'slug',\n",
       "  'termite',\n",
       "  'toad',\n",
       "  'wasp',\n",
       "  'worm'],\n",
       " 1: ['aardvark',\n",
       "  'antelope',\n",
       "  'bear',\n",
       "  'boar',\n",
       "  'buffalo',\n",
       "  'calf',\n",
       "  'cavy',\n",
       "  'cheetah',\n",
       "  'deer',\n",
       "  'elephant',\n",
       "  'fruitbat',\n",
       "  'giraffe',\n",
       "  'girl',\n",
       "  'goat',\n",
       "  'gorilla',\n",
       "  'hamster',\n",
       "  'hare',\n",
       "  'leopard',\n",
       "  'lion',\n",
       "  'lynx',\n",
       "  'mink',\n",
       "  'mole',\n",
       "  'mongoose',\n",
       "  'opossum',\n",
       "  'oryx',\n",
       "  'platypus',\n",
       "  'polecat',\n",
       "  'pony',\n",
       "  'puma',\n",
       "  'pussycat',\n",
       "  'raccoon',\n",
       "  'reindeer',\n",
       "  'seal',\n",
       "  'sealion',\n",
       "  'squirrel',\n",
       "  'tuatara',\n",
       "  'vampire',\n",
       "  'vole',\n",
       "  'wallaby',\n",
       "  'wolf'],\n",
       " 2: ['chicken',\n",
       "  'crow',\n",
       "  'dove',\n",
       "  'duck',\n",
       "  'flamingo',\n",
       "  'gull',\n",
       "  'hawk',\n",
       "  'kiwi',\n",
       "  'lark',\n",
       "  'ostrich',\n",
       "  'parakeet',\n",
       "  'penguin',\n",
       "  'pheasant',\n",
       "  'rhea',\n",
       "  'skimmer',\n",
       "  'skua',\n",
       "  'sparrow',\n",
       "  'swan',\n",
       "  'tortoise',\n",
       "  'vulture',\n",
       "  'wren'],\n",
       " 3: ['bass',\n",
       "  'carp',\n",
       "  'catfish',\n",
       "  'chub',\n",
       "  'dogfish',\n",
       "  'dolphin',\n",
       "  'haddock',\n",
       "  'herring',\n",
       "  'newt',\n",
       "  'pike',\n",
       "  'piranha',\n",
       "  'pitviper',\n",
       "  'porpoise',\n",
       "  'seahorse',\n",
       "  'seasnake',\n",
       "  'slowworm',\n",
       "  'sole',\n",
       "  'stingray',\n",
       "  'tuna'],\n",
       " 4: ['clam',\n",
       "  'crab',\n",
       "  'crayfish',\n",
       "  'frog',\n",
       "  'lobster',\n",
       "  'octopus',\n",
       "  'seawasp',\n",
       "  'starfish']}"
      ]
     },
     "execution_count": 63,
     "metadata": {},
     "output_type": "execute_result"
    }
   ],
   "source": [
    "kmeans = {x: list(df[model.labels_ == x][\"animal_name\"])\n",
    "          for x in range (0, 5)}\n",
    "\n",
    "kmeans"
   ]
  },
  {
   "cell_type": "markdown",
   "metadata": {
    "collapsed": false
   },
   "source": [
    "a teraz sprobujmy 7"
   ]
  },
  {
   "cell_type": "code",
   "execution_count": 64,
   "metadata": {
    "ExecuteTime": {
     "end_time": "2023-06-26T19:26:46.151099Z",
     "start_time": "2023-06-26T19:26:46.139049Z"
    },
    "collapsed": false
   },
   "outputs": [],
   "source": [
    "model_kmeans = KMeans(n_clusters=7, n_init=\"auto\", random_state=2023).fit(X)"
   ]
  },
  {
   "cell_type": "code",
   "execution_count": 65,
   "metadata": {
    "ExecuteTime": {
     "end_time": "2023-06-26T19:26:46.554527Z",
     "start_time": "2023-06-26T19:26:46.550580Z"
    },
    "collapsed": false
   },
   "outputs": [
    {
     "data": {
      "text/plain": [
       "{0: ['flea',\n",
       "  'scorpion',\n",
       "  'slug',\n",
       "  'termite',\n",
       "  'toad',\n",
       "  'tortoise',\n",
       "  'tuatara',\n",
       "  'worm'],\n",
       " 1: ['aardvark',\n",
       "  'antelope',\n",
       "  'bear',\n",
       "  'boar',\n",
       "  'buffalo',\n",
       "  'cheetah',\n",
       "  'deer',\n",
       "  'elephant',\n",
       "  'fruitbat',\n",
       "  'giraffe',\n",
       "  'gorilla',\n",
       "  'hare',\n",
       "  'leopard',\n",
       "  'lion',\n",
       "  'lynx',\n",
       "  'mink',\n",
       "  'mole',\n",
       "  'mongoose',\n",
       "  'opossum',\n",
       "  'oryx',\n",
       "  'platypus',\n",
       "  'polecat',\n",
       "  'puma',\n",
       "  'raccoon',\n",
       "  'seal',\n",
       "  'sealion',\n",
       "  'squirrel',\n",
       "  'vampire',\n",
       "  'vole',\n",
       "  'wallaby',\n",
       "  'wolf'],\n",
       " 2: ['chicken',\n",
       "  'crow',\n",
       "  'dove',\n",
       "  'duck',\n",
       "  'flamingo',\n",
       "  'gull',\n",
       "  'hawk',\n",
       "  'kiwi',\n",
       "  'lark',\n",
       "  'ostrich',\n",
       "  'parakeet',\n",
       "  'penguin',\n",
       "  'pheasant',\n",
       "  'rhea',\n",
       "  'skimmer',\n",
       "  'skua',\n",
       "  'sparrow',\n",
       "  'swan',\n",
       "  'vulture',\n",
       "  'wren'],\n",
       " 3: ['bass',\n",
       "  'carp',\n",
       "  'catfish',\n",
       "  'chub',\n",
       "  'dogfish',\n",
       "  'dolphin',\n",
       "  'haddock',\n",
       "  'herring',\n",
       "  'newt',\n",
       "  'pike',\n",
       "  'piranha',\n",
       "  'pitviper',\n",
       "  'porpoise',\n",
       "  'seahorse',\n",
       "  'seasnake',\n",
       "  'slowworm',\n",
       "  'sole',\n",
       "  'stingray',\n",
       "  'tuna'],\n",
       " 4: ['clam',\n",
       "  'crab',\n",
       "  'crayfish',\n",
       "  'frog',\n",
       "  'lobster',\n",
       "  'octopus',\n",
       "  'seawasp',\n",
       "  'starfish'],\n",
       " 5: ['gnat', 'honeybee', 'housefly', 'ladybird', 'moth', 'wasp'],\n",
       " 6: ['calf',\n",
       "  'cavy',\n",
       "  'girl',\n",
       "  'goat',\n",
       "  'hamster',\n",
       "  'pony',\n",
       "  'pussycat',\n",
       "  'reindeer']}"
      ]
     },
     "execution_count": 65,
     "metadata": {},
     "output_type": "execute_result"
    }
   ],
   "source": [
    "kmeans = {x: list(df[model_kmeans.labels_ == x][\"animal_name\"])\n",
    "          for x in range (0, 7)}\n",
    "\n",
    "kmeans"
   ]
  },
  {
   "cell_type": "code",
   "execution_count": 66,
   "metadata": {
    "ExecuteTime": {
     "end_time": "2023-06-26T19:26:46.725242Z",
     "start_time": "2023-06-26T19:26:46.718135Z"
    },
    "collapsed": false
   },
   "outputs": [],
   "source": [
    "from sklearn.metrics import adjusted_rand_score, normalized_mutual_info_score"
   ]
  },
  {
   "cell_type": "code",
   "execution_count": 67,
   "metadata": {
    "ExecuteTime": {
     "end_time": "2023-06-26T19:26:47.008164Z",
     "start_time": "2023-06-26T19:26:47.000378Z"
    },
    "collapsed": false
   },
   "outputs": [
    {
     "data": {
      "text/plain": [
       "0.7066675590005049"
      ]
     },
     "execution_count": 67,
     "metadata": {},
     "output_type": "execute_result"
    }
   ],
   "source": [
    "adjusted_rand_score(model_kmeans.labels_, np.array(df[\"class_type\"]))"
   ]
  },
  {
   "cell_type": "code",
   "execution_count": 68,
   "metadata": {
    "ExecuteTime": {
     "end_time": "2023-06-26T19:26:47.439458Z",
     "start_time": "2023-06-26T19:26:47.423607Z"
    },
    "collapsed": false
   },
   "outputs": [
    {
     "data": {
      "text/plain": [
       "0.7758757855872928"
      ]
     },
     "execution_count": 68,
     "metadata": {},
     "output_type": "execute_result"
    }
   ],
   "source": [
    "normalized_mutual_info_score(model_kmeans.labels_, np.array(df[\"class_type\"]))"
   ]
  },
  {
   "cell_type": "markdown",
   "metadata": {
    "collapsed": false
   },
   "source": [
    "not bad"
   ]
  },
  {
   "cell_type": "code",
   "execution_count": 69,
   "metadata": {
    "ExecuteTime": {
     "end_time": "2023-06-26T19:26:48.124696Z",
     "start_time": "2023-06-26T19:26:48.111037Z"
    },
    "collapsed": false
   },
   "outputs": [],
   "source": [
    "from sklearn.cluster import AgglomerativeClustering"
   ]
  },
  {
   "cell_type": "code",
   "execution_count": 70,
   "metadata": {
    "ExecuteTime": {
     "end_time": "2023-06-26T19:26:48.335096Z",
     "start_time": "2023-06-26T19:26:48.328777Z"
    },
    "collapsed": false
   },
   "outputs": [],
   "source": [
    "model_agg = AgglomerativeClustering(n_clusters=7).fit(X)"
   ]
  },
  {
   "cell_type": "code",
   "execution_count": 71,
   "metadata": {
    "ExecuteTime": {
     "end_time": "2023-06-26T19:26:49.341537Z",
     "start_time": "2023-06-26T19:26:49.332284Z"
    },
    "collapsed": false
   },
   "outputs": [
    {
     "data": {
      "text/plain": [
       "0.6440569257965707"
      ]
     },
     "execution_count": 71,
     "metadata": {},
     "output_type": "execute_result"
    }
   ],
   "source": [
    "adjusted_rand_score(model_agg.labels_, np.array(df[\"class_type\"]))"
   ]
  },
  {
   "cell_type": "code",
   "execution_count": 72,
   "metadata": {
    "ExecuteTime": {
     "end_time": "2023-06-26T19:26:49.755063Z",
     "start_time": "2023-06-26T19:26:49.745789Z"
    },
    "collapsed": false
   },
   "outputs": [
    {
     "data": {
      "text/plain": [
       "0.7670905800680605"
      ]
     },
     "execution_count": 72,
     "metadata": {},
     "output_type": "execute_result"
    }
   ],
   "source": [
    "normalized_mutual_info_score(model_agg.labels_, np.array(df[\"class_type\"]))"
   ]
  },
  {
   "cell_type": "code",
   "execution_count": 73,
   "metadata": {
    "ExecuteTime": {
     "end_time": "2023-06-26T19:26:50.199176Z",
     "start_time": "2023-06-26T19:26:50.194058Z"
    },
    "collapsed": false
   },
   "outputs": [
    {
     "data": {
      "text/plain": [
       "{0: ['clam',\n",
       "  'crab',\n",
       "  'crayfish',\n",
       "  'flea',\n",
       "  'gnat',\n",
       "  'honeybee',\n",
       "  'housefly',\n",
       "  'ladybird',\n",
       "  'lobster',\n",
       "  'moth',\n",
       "  'octopus',\n",
       "  'scorpion',\n",
       "  'slug',\n",
       "  'starfish',\n",
       "  'termite',\n",
       "  'wasp',\n",
       "  'worm'],\n",
       " 1: ['chicken',\n",
       "  'crow',\n",
       "  'dove',\n",
       "  'duck',\n",
       "  'flamingo',\n",
       "  'gull',\n",
       "  'hawk',\n",
       "  'kiwi',\n",
       "  'lark',\n",
       "  'newt',\n",
       "  'ostrich',\n",
       "  'parakeet',\n",
       "  'penguin',\n",
       "  'pheasant',\n",
       "  'rhea',\n",
       "  'skimmer',\n",
       "  'skua',\n",
       "  'slowworm',\n",
       "  'sparrow',\n",
       "  'swan',\n",
       "  'toad',\n",
       "  'tortoise',\n",
       "  'tuatara',\n",
       "  'vulture',\n",
       "  'wren'],\n",
       " 2: ['bass',\n",
       "  'carp',\n",
       "  'catfish',\n",
       "  'chub',\n",
       "  'dogfish',\n",
       "  'haddock',\n",
       "  'herring',\n",
       "  'pike',\n",
       "  'piranha',\n",
       "  'seahorse',\n",
       "  'sole',\n",
       "  'tuna'],\n",
       " 3: ['aardvark',\n",
       "  'antelope',\n",
       "  'bear',\n",
       "  'boar',\n",
       "  'buffalo',\n",
       "  'cheetah',\n",
       "  'deer',\n",
       "  'elephant',\n",
       "  'fruitbat',\n",
       "  'giraffe',\n",
       "  'gorilla',\n",
       "  'hare',\n",
       "  'leopard',\n",
       "  'lion',\n",
       "  'lynx',\n",
       "  'mink',\n",
       "  'mole',\n",
       "  'mongoose',\n",
       "  'opossum',\n",
       "  'oryx',\n",
       "  'platypus',\n",
       "  'polecat',\n",
       "  'puma',\n",
       "  'raccoon',\n",
       "  'squirrel',\n",
       "  'vampire',\n",
       "  'vole',\n",
       "  'wallaby',\n",
       "  'wolf'],\n",
       " 4: ['frog', 'pitviper', 'seasnake', 'seawasp', 'stingray'],\n",
       " 5: ['calf',\n",
       "  'cavy',\n",
       "  'girl',\n",
       "  'goat',\n",
       "  'hamster',\n",
       "  'pony',\n",
       "  'pussycat',\n",
       "  'reindeer'],\n",
       " 6: ['dolphin', 'porpoise', 'seal', 'sealion']}"
      ]
     },
     "execution_count": 73,
     "metadata": {},
     "output_type": "execute_result"
    }
   ],
   "source": [
    "agglomerative = {x: list(df[model_agg.labels_ == x][\"animal_name\"])\n",
    "          for x in range (0, 7)}\n",
    "\n",
    "agglomerative"
   ]
  },
  {
   "cell_type": "code",
   "execution_count": 74,
   "metadata": {
    "ExecuteTime": {
     "end_time": "2023-06-26T19:27:47.521997Z",
     "start_time": "2023-06-26T19:27:47.497032Z"
    },
    "collapsed": false
   },
   "outputs": [],
   "source": [
    "from sklearn.cluster import DBSCAN"
   ]
  },
  {
   "cell_type": "code",
   "execution_count": 75,
   "metadata": {
    "ExecuteTime": {
     "end_time": "2023-06-26T19:30:11.225988Z",
     "start_time": "2023-06-26T19:30:11.219186Z"
    },
    "collapsed": false
   },
   "outputs": [],
   "source": [
    "dbscan = DBSCAN(eps=2.5, min_samples=5).fit(X)\n"
   ]
  },
  {
   "cell_type": "code",
   "execution_count": 76,
   "metadata": {
    "ExecuteTime": {
     "end_time": "2023-06-26T19:30:11.370340Z",
     "start_time": "2023-06-26T19:30:11.363616Z"
    },
    "collapsed": false
   },
   "outputs": [
    {
     "data": {
      "text/plain": [
       "{0: ['aardvark',\n",
       "  'antelope',\n",
       "  'bear',\n",
       "  'boar',\n",
       "  'buffalo',\n",
       "  'cheetah',\n",
       "  'deer',\n",
       "  'elephant',\n",
       "  'fruitbat',\n",
       "  'giraffe',\n",
       "  'gorilla',\n",
       "  'hare',\n",
       "  'leopard',\n",
       "  'lion',\n",
       "  'lynx',\n",
       "  'mink',\n",
       "  'mole',\n",
       "  'mongoose',\n",
       "  'opossum',\n",
       "  'oryx',\n",
       "  'polecat',\n",
       "  'puma',\n",
       "  'raccoon',\n",
       "  'squirrel',\n",
       "  'vampire',\n",
       "  'vole',\n",
       "  'wallaby',\n",
       "  'wolf'],\n",
       " 1: ['bass',\n",
       "  'catfish',\n",
       "  'chub',\n",
       "  'dogfish',\n",
       "  'haddock',\n",
       "  'herring',\n",
       "  'pike',\n",
       "  'piranha',\n",
       "  'seahorse',\n",
       "  'sole',\n",
       "  'tuna'],\n",
       " 2: ['calf', 'cavy', 'goat', 'hamster', 'pony', 'pussycat', 'reindeer'],\n",
       " 3: ['crab', 'crayfish', 'lobster', 'octopus', 'starfish'],\n",
       " 4: ['crow',\n",
       "  'dove',\n",
       "  'duck',\n",
       "  'flamingo',\n",
       "  'gull',\n",
       "  'hawk',\n",
       "  'kiwi',\n",
       "  'lark',\n",
       "  'ostrich',\n",
       "  'penguin',\n",
       "  'pheasant',\n",
       "  'rhea',\n",
       "  'skimmer',\n",
       "  'skua',\n",
       "  'sparrow',\n",
       "  'swan',\n",
       "  'vulture',\n",
       "  'wren'],\n",
       " 5: ['flea', 'gnat', 'housefly', 'ladybird', 'moth', 'termite'],\n",
       " 6: []}"
      ]
     },
     "execution_count": 76,
     "metadata": {},
     "output_type": "execute_result"
    }
   ],
   "source": [
    "dbs = {x: list(df[dbscan.labels_ == x][\"animal_name\"])\n",
    "          for x in range (0, 7)}\n",
    "\n",
    "dbs"
   ]
  },
  {
   "cell_type": "markdown",
   "metadata": {
    "collapsed": false
   },
   "source": [
    "Wnioski: Te klastrowania są nawet niezłe. Wiadomo, że z takich danych nie dostaniemy 100% super podziału na Ssaki, Bezkręgowce, Owady etc. bez większego nakładu pracy czy dłuższej paratrymetyzacji modeli.\n",
    "Niemniej każde grupowanie wyznaczyło jakieś sensowne boundaries, są owado-podobne, czworonogi z mlekiem, ptaki, wodne bezkręgowce. Jest gicik"
   ]
  },
  {
   "cell_type": "markdown",
   "metadata": {
    "collapsed": false
   },
   "source": [
    "# Supervised"
   ]
  },
  {
   "cell_type": "markdown",
   "metadata": {
    "collapsed": false
   },
   "source": [
    "# 1. KNN"
   ]
  },
  {
   "cell_type": "code",
   "execution_count": 77,
   "metadata": {
    "ExecuteTime": {
     "end_time": "2023-06-26T19:50:31.796010Z",
     "start_time": "2023-06-26T19:50:31.787900Z"
    },
    "collapsed": false
   },
   "outputs": [],
   "source": [
    "from sklearn.neighbors import KNeighborsClassifier\n",
    "from sklearn.metrics import accuracy_score"
   ]
  },
  {
   "cell_type": "code",
   "execution_count": 78,
   "metadata": {
    "ExecuteTime": {
     "end_time": "2023-06-26T19:50:32.249685Z",
     "start_time": "2023-06-26T19:50:32.174011Z"
    },
    "collapsed": false
   },
   "outputs": [],
   "source": [
    "acc_scores = []\n",
    "for k in range(3, 26):\n",
    "    knn = KNeighborsClassifier(n_neighbors=k)\n",
    "    knn.fit(X_train, y_train)\n",
    "    y_pred = knn.predict(X_test)\n",
    "    acc_scores.append(accuracy_score(y_test, y_pred))"
   ]
  },
  {
   "cell_type": "code",
   "execution_count": 79,
   "metadata": {
    "ExecuteTime": {
     "end_time": "2023-06-26T19:50:32.813457Z",
     "start_time": "2023-06-26T19:50:32.590028Z"
    },
    "collapsed": false
   },
   "outputs": [
    {
     "data": {
      "image/png": "[encoded data removed]",
      "text/plain": [
       "<Figure size 1500x1000 with 1 Axes>"
      ]
     },
     "metadata": {},
     "output_type": "display_data"
    }
   ],
   "source": [
    "plt.plot(range(3, 26), acc_scores)\n",
    "plt.xticks(range(3, 26))\n",
    "plt.title(\"KNN accuraccies for different k\")\n",
    "plt.xlabel(\"k\")\n",
    "plt.ylabel(\"accuracy score\")\n",
    "plt.show()"
   ]
  },
  {
   "cell_type": "code",
   "execution_count": 80,
   "metadata": {
    "ExecuteTime": {
     "end_time": "2023-06-26T19:50:33.056075Z",
     "start_time": "2023-06-26T19:50:33.045034Z"
    },
    "collapsed": false
   },
   "outputs": [
    {
     "data": {
      "text/html": [
       "<div>\n",
       "<style scoped>\n",
       "    .dataframe tbody tr th:only-of-type {\n",
       "        vertical-align: middle;\n",
       "    }\n",
       "\n",
       "    .dataframe tbody tr th {\n",
       "        vertical-align: top;\n",
       "    }\n",
       "\n",
       "    .dataframe thead th {\n",
       "        text-align: right;\n",
       "    }\n",
       "</style>\n",
       "<table border=\"1\" class=\"dataframe\">\n",
       "  <thead>\n",
       "    <tr style=\"text-align: right;\">\n",
       "      <th></th>\n",
       "      <th>hair</th>\n",
       "      <th>feathers</th>\n",
       "      <th>eggs</th>\n",
       "      <th>milk</th>\n",
       "      <th>airborne</th>\n",
       "      <th>aquatic</th>\n",
       "      <th>predator</th>\n",
       "      <th>toothed</th>\n",
       "      <th>backbone</th>\n",
       "      <th>breathes</th>\n",
       "      <th>venomous</th>\n",
       "      <th>fins</th>\n",
       "      <th>legs</th>\n",
       "      <th>tail</th>\n",
       "      <th>domestic</th>\n",
       "      <th>catsize</th>\n",
       "    </tr>\n",
       "  </thead>\n",
       "  <tbody>\n",
       "    <tr>\n",
       "      <th>89</th>\n",
       "      <td>-0.8642</td>\n",
       "      <td>-0.497494</td>\n",
       "      <td>0.846697</td>\n",
       "      <td>-0.829437</td>\n",
       "      <td>-0.559135</td>\n",
       "      <td>-0.714143</td>\n",
       "      <td>-1.1</td>\n",
       "      <td>-1.218606</td>\n",
       "      <td>0.466173</td>\n",
       "      <td>0.512996</td>\n",
       "      <td>-0.293406</td>\n",
       "      <td>-0.450301</td>\n",
       "      <td>0.600028</td>\n",
       "      <td>0.574456</td>\n",
       "      <td>-0.367423</td>\n",
       "      <td>1.122497</td>\n",
       "    </tr>\n",
       "  </tbody>\n",
       "</table>\n",
       "</div>"
      ],
      "text/plain": [
       "      hair  feathers      eggs      milk  airborne   aquatic  predator  \\\n",
       "89 -0.8642 -0.497494  0.846697 -0.829437 -0.559135 -0.714143      -1.1   \n",
       "\n",
       "     toothed  backbone  breathes  venomous      fins      legs      tail  \\\n",
       "89 -1.218606  0.466173  0.512996 -0.293406 -0.450301  0.600028  0.574456   \n",
       "\n",
       "    domestic   catsize  \n",
       "89 -0.367423  1.122497  "
      ]
     },
     "execution_count": 80,
     "metadata": {},
     "output_type": "execute_result"
    }
   ],
   "source": [
    "knn = KNeighborsClassifier(n_neighbors=3)\n",
    "knn.fit(X_train, y_train)\n",
    "y_pred = knn.predict(X_test)\n",
    "X_test[y_pred != y_test]"
   ]
  },
  {
   "cell_type": "code",
   "execution_count": 81,
   "metadata": {
    "ExecuteTime": {
     "end_time": "2023-06-26T19:50:33.533875Z",
     "start_time": "2023-06-26T19:50:33.516575Z"
    },
    "collapsed": false
   },
   "outputs": [],
   "source": [
    "from sklearn.tree import DecisionTreeClassifier"
   ]
  },
  {
   "cell_type": "code",
   "execution_count": 82,
   "metadata": {
    "ExecuteTime": {
     "end_time": "2023-06-26T19:50:33.945279Z",
     "start_time": "2023-06-26T19:50:33.937765Z"
    },
    "collapsed": false
   },
   "outputs": [
    {
     "data": {
      "text/plain": [
       "0.96"
      ]
     },
     "execution_count": 82,
     "metadata": {},
     "output_type": "execute_result"
    }
   ],
   "source": [
    "dt_classifier = DecisionTreeClassifier()\n",
    "dt_classifier.fit(X_train, y_train)\n",
    "y_pred = dt_classifier.predict(X_test)\n",
    "accuracy = accuracy_score(y_test, y_pred)\n",
    "accuracy"
   ]
  },
  {
   "cell_type": "code",
   "execution_count": 83,
   "metadata": {
    "ExecuteTime": {
     "end_time": "2023-06-26T19:50:34.459693Z",
     "start_time": "2023-06-26T19:50:34.449072Z"
    },
    "collapsed": false
   },
   "outputs": [
    {
     "data": {
      "text/html": [
       "<div>\n",
       "<style scoped>\n",
       "    .dataframe tbody tr th:only-of-type {\n",
       "        vertical-align: middle;\n",
       "    }\n",
       "\n",
       "    .dataframe tbody tr th {\n",
       "        vertical-align: top;\n",
       "    }\n",
       "\n",
       "    .dataframe thead th {\n",
       "        text-align: right;\n",
       "    }\n",
       "</style>\n",
       "<table border=\"1\" class=\"dataframe\">\n",
       "  <thead>\n",
       "    <tr style=\"text-align: right;\">\n",
       "      <th></th>\n",
       "      <th>hair</th>\n",
       "      <th>feathers</th>\n",
       "      <th>eggs</th>\n",
       "      <th>milk</th>\n",
       "      <th>airborne</th>\n",
       "      <th>aquatic</th>\n",
       "      <th>predator</th>\n",
       "      <th>toothed</th>\n",
       "      <th>backbone</th>\n",
       "      <th>breathes</th>\n",
       "      <th>venomous</th>\n",
       "      <th>fins</th>\n",
       "      <th>legs</th>\n",
       "      <th>tail</th>\n",
       "      <th>domestic</th>\n",
       "      <th>catsize</th>\n",
       "    </tr>\n",
       "  </thead>\n",
       "  <tbody>\n",
       "    <tr>\n",
       "      <th>89</th>\n",
       "      <td>-0.8642</td>\n",
       "      <td>-0.497494</td>\n",
       "      <td>0.846697</td>\n",
       "      <td>-0.829437</td>\n",
       "      <td>-0.559135</td>\n",
       "      <td>-0.714143</td>\n",
       "      <td>-1.1</td>\n",
       "      <td>-1.218606</td>\n",
       "      <td>0.466173</td>\n",
       "      <td>0.512996</td>\n",
       "      <td>-0.293406</td>\n",
       "      <td>-0.450301</td>\n",
       "      <td>0.600028</td>\n",
       "      <td>0.574456</td>\n",
       "      <td>-0.367423</td>\n",
       "      <td>1.122497</td>\n",
       "    </tr>\n",
       "  </tbody>\n",
       "</table>\n",
       "</div>"
      ],
      "text/plain": [
       "      hair  feathers      eggs      milk  airborne   aquatic  predator  \\\n",
       "89 -0.8642 -0.497494  0.846697 -0.829437 -0.559135 -0.714143      -1.1   \n",
       "\n",
       "     toothed  backbone  breathes  venomous      fins      legs      tail  \\\n",
       "89 -1.218606  0.466173  0.512996 -0.293406 -0.450301  0.600028  0.574456   \n",
       "\n",
       "    domestic   catsize  \n",
       "89 -0.367423  1.122497  "
      ]
     },
     "execution_count": 83,
     "metadata": {},
     "output_type": "execute_result"
    }
   ],
   "source": [
    "X_test[y_pred != y_test]"
   ]
  },
  {
   "cell_type": "code",
   "execution_count": 84,
   "metadata": {
    "ExecuteTime": {
     "end_time": "2023-06-26T19:50:35.072379Z",
     "start_time": "2023-06-26T19:50:35.065750Z"
    },
    "collapsed": false
   },
   "outputs": [],
   "source": [
    "from sklearn.ensemble import RandomForestClassifier"
   ]
  },
  {
   "cell_type": "code",
   "execution_count": 85,
   "metadata": {
    "ExecuteTime": {
     "end_time": "2023-06-26T19:50:35.582514Z",
     "start_time": "2023-06-26T19:50:35.518657Z"
    },
    "collapsed": false
   },
   "outputs": [
    {
     "data": {
      "text/plain": [
       "1.0"
      ]
     },
     "execution_count": 85,
     "metadata": {},
     "output_type": "execute_result"
    }
   ],
   "source": [
    "rf_classifier = RandomForestClassifier()\n",
    "rf_classifier.fit(X_train, y_train)\n",
    "y_pred = rf_classifier.predict(X_test)\n",
    "accuracy = accuracy_score(y_test, y_pred)\n",
    "accuracy"
   ]
  },
  {
   "cell_type": "code",
   "execution_count": 86,
   "metadata": {
    "ExecuteTime": {
     "end_time": "2023-06-26T19:50:36.216350Z",
     "start_time": "2023-06-26T19:50:36.210829Z"
    },
    "collapsed": false
   },
   "outputs": [
    {
     "data": {
      "text/html": [
       "<div>\n",
       "<style scoped>\n",
       "    .dataframe tbody tr th:only-of-type {\n",
       "        vertical-align: middle;\n",
       "    }\n",
       "\n",
       "    .dataframe tbody tr th {\n",
       "        vertical-align: top;\n",
       "    }\n",
       "\n",
       "    .dataframe thead th {\n",
       "        text-align: right;\n",
       "    }\n",
       "</style>\n",
       "<table border=\"1\" class=\"dataframe\">\n",
       "  <thead>\n",
       "    <tr style=\"text-align: right;\">\n",
       "      <th></th>\n",
       "      <th>hair</th>\n",
       "      <th>feathers</th>\n",
       "      <th>eggs</th>\n",
       "      <th>milk</th>\n",
       "      <th>airborne</th>\n",
       "      <th>aquatic</th>\n",
       "      <th>predator</th>\n",
       "      <th>toothed</th>\n",
       "      <th>backbone</th>\n",
       "      <th>breathes</th>\n",
       "      <th>venomous</th>\n",
       "      <th>fins</th>\n",
       "      <th>legs</th>\n",
       "      <th>tail</th>\n",
       "      <th>domestic</th>\n",
       "      <th>catsize</th>\n",
       "    </tr>\n",
       "  </thead>\n",
       "  <tbody>\n",
       "  </tbody>\n",
       "</table>\n",
       "</div>"
      ],
      "text/plain": [
       "Empty DataFrame\n",
       "Columns: [hair, feathers, eggs, milk, airborne, aquatic, predator, toothed, backbone, breathes, venomous, fins, legs, tail, domestic, catsize]\n",
       "Index: []"
      ]
     },
     "execution_count": 86,
     "metadata": {},
     "output_type": "execute_result"
    }
   ],
   "source": [
    "X_test[y_pred != y_test]"
   ]
  },
  {
   "cell_type": "code",
   "execution_count": 87,
   "metadata": {
    "ExecuteTime": {
     "end_time": "2023-06-26T19:50:37.369611Z",
     "start_time": "2023-06-26T19:50:37.325306Z"
    },
    "collapsed": false
   },
   "outputs": [
    {
     "data": {
      "text/plain": [
       "animal_name    tortoise\n",
       "hair              False\n",
       "feathers          False\n",
       "eggs               True\n",
       "milk              False\n",
       "airborne          False\n",
       "aquatic           False\n",
       "predator          False\n",
       "toothed           False\n",
       "backbone           True\n",
       "breathes           True\n",
       "venomous          False\n",
       "fins              False\n",
       "legs                  4\n",
       "tail               True\n",
       "domestic          False\n",
       "catsize            True\n",
       "class_type            3\n",
       "Name: 89, dtype: object"
      ]
     },
     "execution_count": 87,
     "metadata": {},
     "output_type": "execute_result"
    }
   ],
   "source": [
    "df.iloc[89]"
   ]
  },
  {
   "cell_type": "markdown",
   "metadata": {
    "collapsed": false
   },
   "source": [
    "Biedny żuwik, nie mogą go skategoryzowac"
   ]
  },
  {
   "cell_type": "code",
   "execution_count": 88,
   "metadata": {
    "ExecuteTime": {
     "end_time": "2023-06-26T19:53:55.895808Z",
     "start_time": "2023-06-26T19:53:55.722441Z"
    },
    "collapsed": false
   },
   "outputs": [
    {
     "data": {
      "text/plain": [
       "<matplotlib.collections.PathCollection at 0x7fa618c7d220>"
      ]
     },
     "execution_count": 88,
     "metadata": {},
     "output_type": "execute_result"
    },
    {
     "data": {
      "image/png": "[encoded data removed]",
      "text/plain": [
       "<Figure size 1500x1000 with 1 Axes>"
      ]
     },
     "metadata": {},
     "output_type": "display_data"
    }
   ],
   "source": [
    "from sklearn.decomposition import PCA\n",
    "pca = PCA(n_components=2)\n",
    "X_pca = pca.fit_transform(X)\n",
    "plt.scatter(X_pca[:, 0], X_pca[:, 1])"
   ]
  },
  {
   "cell_type": "code",
   "execution_count": 89,
   "metadata": {
    "ExecuteTime": {
     "end_time": "2023-06-26T19:55:00.231664Z",
     "start_time": "2023-06-26T19:55:00.224040Z"
    },
    "collapsed": false
   },
   "outputs": [],
   "source": [
    "xd = KMeans(n_clusters=7, n_init=\"auto\", random_state=2023).fit(X_pca)"
   ]
  },
  {
   "cell_type": "code",
   "execution_count": 90,
   "metadata": {
    "ExecuteTime": {
     "end_time": "2023-06-26T19:58:06.665664Z",
     "start_time": "2023-06-26T19:58:06.492494Z"
    },
    "collapsed": false
   },
   "outputs": [
    {
     "data": {
      "image/png": "[encoded data removed]",
      "text/plain": [
       "<Figure size 1500x1000 with 1 Axes>"
      ]
     },
     "metadata": {},
     "output_type": "display_data"
    }
   ],
   "source": [
    "labels = xd.labels_\n",
    "# Pobranie współrzędnych środków klastrów\n",
    "centroids = xd.cluster_centers_\n",
    "\n",
    "# Rysowanie wykresu punktowego\n",
    "plt.scatter(X_pca[:, 0], X_pca[:, 1], c=labels, cmap='viridis')\n",
    "plt.scatter(centroids[:, 0], centroids[:, 1], marker='x', color='red', s=200, label='Centroids')\n",
    "plt.title('KMeans Clustering - PCA plot')\n",
    "plt.xlabel('PC 1')\n",
    "plt.ylabel('PC 2')\n",
    "plt.legend()\n",
    "plt.show()"
   ]
  }
 ],
 "metadata": {
  "kernelspec": {
   "display_name": "Python 3",
   "language": "python",
   "name": "python3"
  },
  "language_info": {
   "codemirror_mode": {
    "name": "ipython",
    "version": 3
   },
   "file_extension": ".py",
   "mimetype": "text/x-python",
   "name": "python",
   "nbconvert_exporter": "python",
   "pygments_lexer": "ipython3",
   "version": "3.8.16"
  }
 },
 "nbformat": 4,
 "nbformat_minor": 0
}
